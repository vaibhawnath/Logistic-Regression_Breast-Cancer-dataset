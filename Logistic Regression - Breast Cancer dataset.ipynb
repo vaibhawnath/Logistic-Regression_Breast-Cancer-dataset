{
 "cells": [
  {
   "cell_type": "markdown",
   "id": "c9ec269b",
   "metadata": {},
   "source": [
    "# `LOGISTIC REGRESSION - Breast Cancer Dataset`"
   ]
  },
  {
   "cell_type": "markdown",
   "id": "58bf0b6b-266c-4612-a81c-81398bbfaf91",
   "metadata": {},
   "source": [
    "### Assumptions of the Logistic Regression Model\n",
    "\n",
    "#### 1. Linearity of the Logit\n",
    "- The logistic regression model assumes a linear relationship between the logit (log-odds) of the outcome and the predictor variables.\n",
    "- This can be expressed as:\n",
    "$$ \\text{logit}(P(Y=1)) = \\log\\left(\\frac{P(Y=1)}{1-P(Y=1)}\\right) = \\beta_0 + \\beta_1 X_1 + \\beta_2 X_2 + \\ldots + \\beta_k X_k $$\n",
    "\n",
    "#### 2. Independence of Observations\n",
    "- The observations should be independent of each other.\n",
    "- This implies that the outcome for one observation does not influence the outcome for another observation.\n",
    "\n",
    "#### 3. No Multicollinearity\n",
    "- The independent variables should not be highly correlated with each other.\n",
    "- Perfect multicollinearity occurs when one independent variable is an exact linear function of one or more other independent variables, which violates this assumption.\n",
    "\n",
    "#### 4. No Outliers\n",
    "- There should be no influential outliers in the dataset that could disproportionately affect the results.\n",
    "- Outliers in the independent variables or the residuals can distort the logistic regression model's results.\n",
    "\n",
    "#### 5. Large Sample Size\n",
    "- Logistic regression assumes a large enough sample size to provide reliable estimates of the coefficients.\n",
    "- The larger the sample size, the more stable the estimates of the parameters will be.\n",
    "\n",
    "#### 6. Independence of Errors\n",
    "- The errors should be independent of each other.\n",
    "- This means that the residuals (the difference between the observed and predicted outcomes) should not be correlated with each other.\n",
    "\n",
    "#### 7. Binary or Dichotomous Dependent Variable\n",
    "- Logistic regression is used when the dependent variable is binary or dichotomous, meaning it has only two possible outcomes (e.g., 0 and 1, yes and no, benign and malignant).\n",
    "\n",
    "#### 8. Absence of Complete Separation\n",
    "- Logistic regression requires that there is no perfect separation in the data. \n",
    "- Perfect separation occurs when one or more predictor variables can perfectly predict the outcome variable, leading to an inability to estimate the model's coefficients.\n",
    "\n",
    "#### 9. Linearity in the Independent Variables\n",
    "- The logit of the outcome is a linear combination of the independent variables.\n",
    "- This means that the relationship between the independent variables and the logit transformation of the dependent variable should be linear.\n",
    "\n",
    "##### <b> By ensuring these assumptions hold, the logistic regression model provides valid, reliable, and interpretable results for predicting the probability of binary outcomes. </b>\n"
   ]
  },
  {
   "cell_type": "markdown",
   "id": "d4afd3b9-5329-4fef-802c-302a57fe094a",
   "metadata": {
    "jp-MarkdownHeadingCollapsed": true
   },
   "source": [
    "## Problem Definition: \n",
    "\n",
    "- Analysis of Breast Cancer Diagnosis using Logistic Regression. \n",
    "\n",
    "## Data:\n",
    "\n",
    "- The Breast Cancer dataset is a widely used dataset provided by `sklearn` that contains data on breast cancer cases.\n",
    "- It includes various features related to the characteristics of cell nuclei present in the image of a breast mass, along with the target variable, which indicates whether the cancer is benign or malignant.\n",
    "\n",
    "### Dataset Description\n",
    "The dataset consists of 569 samples and 30 features. Below is a detailed description of each feature:\n",
    "\n",
    "1. `mean radius`: Mean of distances from the center to points on the perimeter.\n",
    "2. `mean texture`: Standard deviation of gray-scale values.\n",
    "3. `mean perimeter`: Mean size of the core tumor.\n",
    "4. `mean area`: Mean area of the tumor.\n",
    "5. `mean smoothness`: Mean local variation in radius lengths.\n",
    "6. `mean compactness`: Mean of perimeter^2/area - 1.0.\n",
    "7. `mean concavity`: Mean of severity of concave portions of the contour.\n",
    "8. `mean concave points`: Mean for the number of concave portions of the contour.\n",
    "9. `mean symmetry`: Mean symmetry of the tumor.\n",
    "10. `mean fractal dimension`: Mean \"coastline approximation\" - 1.\n",
    "11. `radius error`: Standard error of distances from the center to points on the perimeter.\n",
    "12. `texture error`: Standard error of gray-scale values.\n",
    "13. `perimeter error`: Standard error of size of the core tumor.\n",
    "14. `area error`: Standard error of the area of the tumor.\n",
    "15. `smoothness error`: Standard error of local variation in radius lengths.\n",
    "16. `compactness error`: Standard error of perimeter^2/area - 1.0.\n",
    "17. `concavity error`: Standard error of severity of concave portions of the contour.\n",
    "18. `concave points error`: Standard error for the number of concave portions of the contour.\n",
    "19. `symmetry error`: Standard error of symmetry of the tumor.\n",
    "20. `fractal dimension error`: Standard error of \"coastline approximation\" - 1.\n",
    "21. `worst radius`: Worst (largest) mean value for distances from the center to points on the perimeter.\n",
    "22. `worst texture`: Worst (largest) standard deviation of gray-scale values.\n",
    "23. `worst perimeter`: Worst (largest) mean size of the core tumor.\n",
    "24. `worst area`: Worst (largest) area of the tumor.\n",
    "25. `worst smoothness`: Worst (largest) local variation in radius lengths.\n",
    "26. `worst compactness`: Worst (largest) perimeter^2/area - 1.0.\n",
    "27. `worst concavity`: Worst (largest) severity of concave portions of the contour.\n",
    "28. `worst concave points`: Worst (largest) number of concave portions of the contour.\n",
    "29. `worst symmetry`: Worst (largest) symmetry of the tumor.\n",
    "30. `worst fractal dimension`: Worst (largest) \"coastline approximation\" - 1.\n",
    "\n",
    "The target variable is:\n",
    "\n",
    "- `target`: Indicates whether the cancer is benign (0) or malignant (1)."
   ]
  },
  {
   "cell_type": "markdown",
   "id": "58674ed7-b8c7-42d4-b097-d324b0a3d00f",
   "metadata": {},
   "source": [
    "## 1. Import Packages"
   ]
  },
  {
   "cell_type": "code",
   "execution_count": 5,
   "id": "4f3b8848",
   "metadata": {},
   "outputs": [],
   "source": [
    "import pandas as pd\n",
    "import numpy as np\n",
    "import matplotlib.pyplot as plt\n",
    "import seaborn as sns\n",
    "import statsmodels.api as sm\n",
    "import scipy.stats as stats\n",
    "%matplotlib inline"
   ]
  },
  {
   "cell_type": "markdown",
   "id": "5f86c740",
   "metadata": {},
   "source": [
    "## 2. Load Data"
   ]
  },
  {
   "cell_type": "code",
   "execution_count": 7,
   "id": "58d1bb56",
   "metadata": {},
   "outputs": [],
   "source": [
    "from sklearn.datasets import load_breast_cancer\n",
    "cancer = load_breast_cancer()"
   ]
  },
  {
   "cell_type": "code",
   "execution_count": 8,
   "id": "13fcd554-4e63-41f2-ad0b-a5c3b46a87b4",
   "metadata": {},
   "outputs": [],
   "source": [
    "df = pd.DataFrame(cancer.data, columns=cancer.feature_names)\n",
    "#Add the target column to the dataframe\n",
    "df['target'] = cancer.target"
   ]
  },
  {
   "cell_type": "code",
   "execution_count": 9,
   "id": "53035bca-89f4-4900-9c6d-8c080839b623",
   "metadata": {
    "scrolled": true
   },
   "outputs": [
    {
     "data": {
      "text/html": [
       "<div>\n",
       "<style scoped>\n",
       "    .dataframe tbody tr th:only-of-type {\n",
       "        vertical-align: middle;\n",
       "    }\n",
       "\n",
       "    .dataframe tbody tr th {\n",
       "        vertical-align: top;\n",
       "    }\n",
       "\n",
       "    .dataframe thead th {\n",
       "        text-align: right;\n",
       "    }\n",
       "</style>\n",
       "<table border=\"1\" class=\"dataframe\">\n",
       "  <thead>\n",
       "    <tr style=\"text-align: right;\">\n",
       "      <th></th>\n",
       "      <th>0</th>\n",
       "      <th>1</th>\n",
       "      <th>2</th>\n",
       "      <th>3</th>\n",
       "      <th>4</th>\n",
       "    </tr>\n",
       "  </thead>\n",
       "  <tbody>\n",
       "    <tr>\n",
       "      <th>mean radius</th>\n",
       "      <td>17.990000</td>\n",
       "      <td>20.570000</td>\n",
       "      <td>19.690000</td>\n",
       "      <td>11.420000</td>\n",
       "      <td>20.290000</td>\n",
       "    </tr>\n",
       "    <tr>\n",
       "      <th>mean texture</th>\n",
       "      <td>10.380000</td>\n",
       "      <td>17.770000</td>\n",
       "      <td>21.250000</td>\n",
       "      <td>20.380000</td>\n",
       "      <td>14.340000</td>\n",
       "    </tr>\n",
       "    <tr>\n",
       "      <th>mean perimeter</th>\n",
       "      <td>122.800000</td>\n",
       "      <td>132.900000</td>\n",
       "      <td>130.000000</td>\n",
       "      <td>77.580000</td>\n",
       "      <td>135.100000</td>\n",
       "    </tr>\n",
       "    <tr>\n",
       "      <th>mean area</th>\n",
       "      <td>1001.000000</td>\n",
       "      <td>1326.000000</td>\n",
       "      <td>1203.000000</td>\n",
       "      <td>386.100000</td>\n",
       "      <td>1297.000000</td>\n",
       "    </tr>\n",
       "    <tr>\n",
       "      <th>mean smoothness</th>\n",
       "      <td>0.118400</td>\n",
       "      <td>0.084740</td>\n",
       "      <td>0.109600</td>\n",
       "      <td>0.142500</td>\n",
       "      <td>0.100300</td>\n",
       "    </tr>\n",
       "    <tr>\n",
       "      <th>mean compactness</th>\n",
       "      <td>0.277600</td>\n",
       "      <td>0.078640</td>\n",
       "      <td>0.159900</td>\n",
       "      <td>0.283900</td>\n",
       "      <td>0.132800</td>\n",
       "    </tr>\n",
       "    <tr>\n",
       "      <th>mean concavity</th>\n",
       "      <td>0.300100</td>\n",
       "      <td>0.086900</td>\n",
       "      <td>0.197400</td>\n",
       "      <td>0.241400</td>\n",
       "      <td>0.198000</td>\n",
       "    </tr>\n",
       "    <tr>\n",
       "      <th>mean concave points</th>\n",
       "      <td>0.147100</td>\n",
       "      <td>0.070170</td>\n",
       "      <td>0.127900</td>\n",
       "      <td>0.105200</td>\n",
       "      <td>0.104300</td>\n",
       "    </tr>\n",
       "    <tr>\n",
       "      <th>mean symmetry</th>\n",
       "      <td>0.241900</td>\n",
       "      <td>0.181200</td>\n",
       "      <td>0.206900</td>\n",
       "      <td>0.259700</td>\n",
       "      <td>0.180900</td>\n",
       "    </tr>\n",
       "    <tr>\n",
       "      <th>mean fractal dimension</th>\n",
       "      <td>0.078710</td>\n",
       "      <td>0.056670</td>\n",
       "      <td>0.059990</td>\n",
       "      <td>0.097440</td>\n",
       "      <td>0.058830</td>\n",
       "    </tr>\n",
       "    <tr>\n",
       "      <th>radius error</th>\n",
       "      <td>1.095000</td>\n",
       "      <td>0.543500</td>\n",
       "      <td>0.745600</td>\n",
       "      <td>0.495600</td>\n",
       "      <td>0.757200</td>\n",
       "    </tr>\n",
       "    <tr>\n",
       "      <th>texture error</th>\n",
       "      <td>0.905300</td>\n",
       "      <td>0.733900</td>\n",
       "      <td>0.786900</td>\n",
       "      <td>1.156000</td>\n",
       "      <td>0.781300</td>\n",
       "    </tr>\n",
       "    <tr>\n",
       "      <th>perimeter error</th>\n",
       "      <td>8.589000</td>\n",
       "      <td>3.398000</td>\n",
       "      <td>4.585000</td>\n",
       "      <td>3.445000</td>\n",
       "      <td>5.438000</td>\n",
       "    </tr>\n",
       "    <tr>\n",
       "      <th>area error</th>\n",
       "      <td>153.400000</td>\n",
       "      <td>74.080000</td>\n",
       "      <td>94.030000</td>\n",
       "      <td>27.230000</td>\n",
       "      <td>94.440000</td>\n",
       "    </tr>\n",
       "    <tr>\n",
       "      <th>smoothness error</th>\n",
       "      <td>0.006399</td>\n",
       "      <td>0.005225</td>\n",
       "      <td>0.006150</td>\n",
       "      <td>0.009110</td>\n",
       "      <td>0.011490</td>\n",
       "    </tr>\n",
       "    <tr>\n",
       "      <th>compactness error</th>\n",
       "      <td>0.049040</td>\n",
       "      <td>0.013080</td>\n",
       "      <td>0.040060</td>\n",
       "      <td>0.074580</td>\n",
       "      <td>0.024610</td>\n",
       "    </tr>\n",
       "    <tr>\n",
       "      <th>concavity error</th>\n",
       "      <td>0.053730</td>\n",
       "      <td>0.018600</td>\n",
       "      <td>0.038320</td>\n",
       "      <td>0.056610</td>\n",
       "      <td>0.056880</td>\n",
       "    </tr>\n",
       "    <tr>\n",
       "      <th>concave points error</th>\n",
       "      <td>0.015870</td>\n",
       "      <td>0.013400</td>\n",
       "      <td>0.020580</td>\n",
       "      <td>0.018670</td>\n",
       "      <td>0.018850</td>\n",
       "    </tr>\n",
       "    <tr>\n",
       "      <th>symmetry error</th>\n",
       "      <td>0.030030</td>\n",
       "      <td>0.013890</td>\n",
       "      <td>0.022500</td>\n",
       "      <td>0.059630</td>\n",
       "      <td>0.017560</td>\n",
       "    </tr>\n",
       "    <tr>\n",
       "      <th>fractal dimension error</th>\n",
       "      <td>0.006193</td>\n",
       "      <td>0.003532</td>\n",
       "      <td>0.004571</td>\n",
       "      <td>0.009208</td>\n",
       "      <td>0.005115</td>\n",
       "    </tr>\n",
       "    <tr>\n",
       "      <th>worst radius</th>\n",
       "      <td>25.380000</td>\n",
       "      <td>24.990000</td>\n",
       "      <td>23.570000</td>\n",
       "      <td>14.910000</td>\n",
       "      <td>22.540000</td>\n",
       "    </tr>\n",
       "    <tr>\n",
       "      <th>worst texture</th>\n",
       "      <td>17.330000</td>\n",
       "      <td>23.410000</td>\n",
       "      <td>25.530000</td>\n",
       "      <td>26.500000</td>\n",
       "      <td>16.670000</td>\n",
       "    </tr>\n",
       "    <tr>\n",
       "      <th>worst perimeter</th>\n",
       "      <td>184.600000</td>\n",
       "      <td>158.800000</td>\n",
       "      <td>152.500000</td>\n",
       "      <td>98.870000</td>\n",
       "      <td>152.200000</td>\n",
       "    </tr>\n",
       "    <tr>\n",
       "      <th>worst area</th>\n",
       "      <td>2019.000000</td>\n",
       "      <td>1956.000000</td>\n",
       "      <td>1709.000000</td>\n",
       "      <td>567.700000</td>\n",
       "      <td>1575.000000</td>\n",
       "    </tr>\n",
       "    <tr>\n",
       "      <th>worst smoothness</th>\n",
       "      <td>0.162200</td>\n",
       "      <td>0.123800</td>\n",
       "      <td>0.144400</td>\n",
       "      <td>0.209800</td>\n",
       "      <td>0.137400</td>\n",
       "    </tr>\n",
       "    <tr>\n",
       "      <th>worst compactness</th>\n",
       "      <td>0.665600</td>\n",
       "      <td>0.186600</td>\n",
       "      <td>0.424500</td>\n",
       "      <td>0.866300</td>\n",
       "      <td>0.205000</td>\n",
       "    </tr>\n",
       "    <tr>\n",
       "      <th>worst concavity</th>\n",
       "      <td>0.711900</td>\n",
       "      <td>0.241600</td>\n",
       "      <td>0.450400</td>\n",
       "      <td>0.686900</td>\n",
       "      <td>0.400000</td>\n",
       "    </tr>\n",
       "    <tr>\n",
       "      <th>worst concave points</th>\n",
       "      <td>0.265400</td>\n",
       "      <td>0.186000</td>\n",
       "      <td>0.243000</td>\n",
       "      <td>0.257500</td>\n",
       "      <td>0.162500</td>\n",
       "    </tr>\n",
       "    <tr>\n",
       "      <th>worst symmetry</th>\n",
       "      <td>0.460100</td>\n",
       "      <td>0.275000</td>\n",
       "      <td>0.361300</td>\n",
       "      <td>0.663800</td>\n",
       "      <td>0.236400</td>\n",
       "    </tr>\n",
       "    <tr>\n",
       "      <th>worst fractal dimension</th>\n",
       "      <td>0.118900</td>\n",
       "      <td>0.089020</td>\n",
       "      <td>0.087580</td>\n",
       "      <td>0.173000</td>\n",
       "      <td>0.076780</td>\n",
       "    </tr>\n",
       "    <tr>\n",
       "      <th>target</th>\n",
       "      <td>0.000000</td>\n",
       "      <td>0.000000</td>\n",
       "      <td>0.000000</td>\n",
       "      <td>0.000000</td>\n",
       "      <td>0.000000</td>\n",
       "    </tr>\n",
       "  </tbody>\n",
       "</table>\n",
       "</div>"
      ],
      "text/plain": [
       "                                   0            1            2           3  \\\n",
       "mean radius                17.990000    20.570000    19.690000   11.420000   \n",
       "mean texture               10.380000    17.770000    21.250000   20.380000   \n",
       "mean perimeter            122.800000   132.900000   130.000000   77.580000   \n",
       "mean area                1001.000000  1326.000000  1203.000000  386.100000   \n",
       "mean smoothness             0.118400     0.084740     0.109600    0.142500   \n",
       "mean compactness            0.277600     0.078640     0.159900    0.283900   \n",
       "mean concavity              0.300100     0.086900     0.197400    0.241400   \n",
       "mean concave points         0.147100     0.070170     0.127900    0.105200   \n",
       "mean symmetry               0.241900     0.181200     0.206900    0.259700   \n",
       "mean fractal dimension      0.078710     0.056670     0.059990    0.097440   \n",
       "radius error                1.095000     0.543500     0.745600    0.495600   \n",
       "texture error               0.905300     0.733900     0.786900    1.156000   \n",
       "perimeter error             8.589000     3.398000     4.585000    3.445000   \n",
       "area error                153.400000    74.080000    94.030000   27.230000   \n",
       "smoothness error            0.006399     0.005225     0.006150    0.009110   \n",
       "compactness error           0.049040     0.013080     0.040060    0.074580   \n",
       "concavity error             0.053730     0.018600     0.038320    0.056610   \n",
       "concave points error        0.015870     0.013400     0.020580    0.018670   \n",
       "symmetry error              0.030030     0.013890     0.022500    0.059630   \n",
       "fractal dimension error     0.006193     0.003532     0.004571    0.009208   \n",
       "worst radius               25.380000    24.990000    23.570000   14.910000   \n",
       "worst texture              17.330000    23.410000    25.530000   26.500000   \n",
       "worst perimeter           184.600000   158.800000   152.500000   98.870000   \n",
       "worst area               2019.000000  1956.000000  1709.000000  567.700000   \n",
       "worst smoothness            0.162200     0.123800     0.144400    0.209800   \n",
       "worst compactness           0.665600     0.186600     0.424500    0.866300   \n",
       "worst concavity             0.711900     0.241600     0.450400    0.686900   \n",
       "worst concave points        0.265400     0.186000     0.243000    0.257500   \n",
       "worst symmetry              0.460100     0.275000     0.361300    0.663800   \n",
       "worst fractal dimension     0.118900     0.089020     0.087580    0.173000   \n",
       "target                      0.000000     0.000000     0.000000    0.000000   \n",
       "\n",
       "                                   4  \n",
       "mean radius                20.290000  \n",
       "mean texture               14.340000  \n",
       "mean perimeter            135.100000  \n",
       "mean area                1297.000000  \n",
       "mean smoothness             0.100300  \n",
       "mean compactness            0.132800  \n",
       "mean concavity              0.198000  \n",
       "mean concave points         0.104300  \n",
       "mean symmetry               0.180900  \n",
       "mean fractal dimension      0.058830  \n",
       "radius error                0.757200  \n",
       "texture error               0.781300  \n",
       "perimeter error             5.438000  \n",
       "area error                 94.440000  \n",
       "smoothness error            0.011490  \n",
       "compactness error           0.024610  \n",
       "concavity error             0.056880  \n",
       "concave points error        0.018850  \n",
       "symmetry error              0.017560  \n",
       "fractal dimension error     0.005115  \n",
       "worst radius               22.540000  \n",
       "worst texture              16.670000  \n",
       "worst perimeter           152.200000  \n",
       "worst area               1575.000000  \n",
       "worst smoothness            0.137400  \n",
       "worst compactness           0.205000  \n",
       "worst concavity             0.400000  \n",
       "worst concave points        0.162500  \n",
       "worst symmetry              0.236400  \n",
       "worst fractal dimension     0.076780  \n",
       "target                      0.000000  "
      ]
     },
     "execution_count": 9,
     "metadata": {},
     "output_type": "execute_result"
    }
   ],
   "source": [
    "df.head().T"
   ]
  },
  {
   "cell_type": "markdown",
   "id": "3b2a042e-236a-4320-bb33-091010fcc5ca",
   "metadata": {},
   "source": [
    "## 3. Missing Data Analysis\n",
    "If the missing values are not handled properly we may end up drawing an inaccurate inference about the data. Due to improper handling, the result obtained will differ from the ones where missing values are present. "
   ]
  },
  {
   "cell_type": "code",
   "execution_count": 11,
   "id": "d73a6987-05ba-40a7-82ec-ba31e2633ae2",
   "metadata": {
    "scrolled": true
   },
   "outputs": [
    {
     "data": {
      "text/plain": [
       "mean radius                0\n",
       "concavity error            0\n",
       "worst fractal dimension    0\n",
       "worst symmetry             0\n",
       "worst concave points       0\n",
       "worst concavity            0\n",
       "worst compactness          0\n",
       "worst smoothness           0\n",
       "worst area                 0\n",
       "worst perimeter            0\n",
       "worst texture              0\n",
       "worst radius               0\n",
       "fractal dimension error    0\n",
       "symmetry error             0\n",
       "concave points error       0\n",
       "compactness error          0\n",
       "mean texture               0\n",
       "smoothness error           0\n",
       "area error                 0\n",
       "perimeter error            0\n",
       "texture error              0\n",
       "radius error               0\n",
       "mean fractal dimension     0\n",
       "mean symmetry              0\n",
       "mean concave points        0\n",
       "mean concavity             0\n",
       "mean compactness           0\n",
       "mean smoothness            0\n",
       "mean area                  0\n",
       "mean perimeter             0\n",
       "target                     0\n",
       "dtype: int64"
      ]
     },
     "execution_count": 11,
     "metadata": {},
     "output_type": "execute_result"
    }
   ],
   "source": [
    "# Printing total number of missing data\n",
    "df.isnull().sum().sort_values(ascending=False)"
   ]
  },
  {
   "cell_type": "markdown",
   "id": "71b64ab8-136e-4a3b-b512-cdd0b5f9fb12",
   "metadata": {},
   "source": [
    "## 4. Spliting the dataset into Train & Test"
   ]
  },
  {
   "cell_type": "code",
   "execution_count": 13,
   "id": "1497cc9a-4310-4f26-9740-cb9d0f4c7b93",
   "metadata": {},
   "outputs": [],
   "source": [
    "y = df['target']\n",
    "X = df.drop(columns=['target'])"
   ]
  },
  {
   "cell_type": "code",
   "execution_count": 14,
   "id": "eb2c5176-1640-43df-b331-f01909d42b42",
   "metadata": {},
   "outputs": [],
   "source": [
    "# Let us now split the dataset into train & test\n",
    "from sklearn.model_selection import train_test_split\n",
    "X_train, X_test, y_train, y_test = train_test_split(X, y, test_size = 0.20, random_state = 0)"
   ]
  },
  {
   "cell_type": "code",
   "execution_count": 15,
   "id": "fbf2980f-088e-473f-9693-2f3bc57e75e2",
   "metadata": {
    "scrolled": true
   },
   "outputs": [
    {
     "name": "stdout",
     "output_type": "stream",
     "text": [
      "X_train (455, 30)\n",
      "X_test (114, 30)\n",
      "y_train (455,)\n",
      "y_test (114,)\n"
     ]
    }
   ],
   "source": [
    "print(\"X_train\",X_train.shape)\n",
    "print(\"X_test\",X_test.shape)\n",
    "print(\"y_train\",y_train.shape)\n",
    "print(\"y_test\",y_test.shape)"
   ]
  },
  {
   "cell_type": "markdown",
   "id": "8562bb03-80e4-4d8f-b8e7-f76b60af6ac3",
   "metadata": {},
   "source": [
    "## 5. Pandas Profiling Report"
   ]
  },
  {
   "cell_type": "code",
   "execution_count": 17,
   "id": "917e93ed-ce2e-4f2d-864b-0212eb6682a6",
   "metadata": {},
   "outputs": [],
   "source": [
    "from ydata_profiling import ProfileReport "
   ]
  },
  {
   "cell_type": "code",
   "execution_count": 18,
   "id": "7a5c456e-5ccb-4562-98fe-f8867f6dc6dd",
   "metadata": {},
   "outputs": [],
   "source": [
    "pf = ProfileReport(X_train,explorative=True)"
   ]
  },
  {
   "cell_type": "code",
   "execution_count": 19,
   "id": "73dd3280-53f8-473d-992d-bad8799d907e",
   "metadata": {},
   "outputs": [],
   "source": [
    "#pf"
   ]
  },
  {
   "cell_type": "code",
   "execution_count": 20,
   "id": "246ce01b-ee32-4b50-8316-73331a895125",
   "metadata": {},
   "outputs": [],
   "source": [
    "#To save the report\n",
    "#pf.to_file(\"Pandas Profiling Report.html\")"
   ]
  },
  {
   "cell_type": "markdown",
   "id": "05c3f750",
   "metadata": {},
   "source": [
    "## 6. Data Preparation"
   ]
  },
  {
   "cell_type": "markdown",
   "id": "2a1359a2-ba7e-4fe1-8c47-83ab456433b8",
   "metadata": {},
   "source": [
    "### 6.1 Feature Engineering"
   ]
  },
  {
   "cell_type": "markdown",
   "id": "342c3399-01dc-4641-af71-4dd094f13524",
   "metadata": {},
   "source": [
    "#### 6.1.1 Yeo-Johnson Power Transformation\n",
    "- Power transforms are a family of parametric, monotonic transformations that are applied to make data more Gaussian-like. This is useful for modeling issues related to `heteroscedasticity`, or other situations where `normality` is desired.\n",
    "- The optimal parameter for stabilizing variance and minimizing skewness is estimated through `maximum likelihood`. \n",
    "- Unlike the Box-Cox transformation, Yeo-Johnson Power Transformation can handle both positive and negative values.\n",
    "- By default, **zero mean, unit-variance normalization** is applied to the transformed data."
   ]
  },
  {
   "cell_type": "code",
   "execution_count": 24,
   "id": "c2d0454f-529c-4f39-8f74-ccb0621a2226",
   "metadata": {},
   "outputs": [],
   "source": [
    "from sklearn.preprocessing import PowerTransformer\n",
    "\n",
    "pt1 = PowerTransformer(method='yeo-johnson')\n",
    "X_train = pt1.fit_transform(X_train)"
   ]
  },
  {
   "cell_type": "markdown",
   "id": "a72a0189-1123-4e9f-845a-4abfaca2f986",
   "metadata": {},
   "source": [
    "The `lambda` values for the Yeo-Johnson transformation are parameters that optimize the transformation to best approximate a normal distribution for the given data."
   ]
  },
  {
   "cell_type": "code",
   "execution_count": 26,
   "id": "04275480-67c6-4ecd-a749-61ea03c54167",
   "metadata": {},
   "outputs": [
    {
     "data": {
      "text/plain": [
       "array([-7.53941923e-01,  1.14179890e-02, -6.33371604e-01, -2.97440358e-01,\n",
       "       -6.77895547e+00, -8.60654747e+00, -8.18242960e+00, -1.48390829e+01,\n",
       "       -7.69158149e+00, -5.50426361e+01, -3.77868967e+00, -7.91296271e-01,\n",
       "       -1.01533867e+00, -5.51450213e-01, -1.69696398e+02, -3.69670333e+01,\n",
       "       -2.24948400e+01, -5.05688293e+01, -7.36220510e+01, -2.88378891e+02,\n",
       "       -9.71421183e-01,  1.07572482e-01, -8.04752048e-01, -4.15252935e-01,\n",
       "       -5.71322482e+00, -3.28833132e+00, -1.91336377e+00, -3.56917320e+00,\n",
       "       -5.77593414e+00, -2.73274555e+01])"
      ]
     },
     "execution_count": 26,
     "metadata": {},
     "output_type": "execute_result"
    }
   ],
   "source": [
    "pt1.lambdas_"
   ]
  },
  {
   "cell_type": "code",
   "execution_count": 27,
   "id": "c3d2e1dd-83d0-4ae4-8f69-93e9a896913d",
   "metadata": {},
   "outputs": [
    {
     "data": {
      "text/html": [
       "<div>\n",
       "<style scoped>\n",
       "    .dataframe tbody tr th:only-of-type {\n",
       "        vertical-align: middle;\n",
       "    }\n",
       "\n",
       "    .dataframe tbody tr th {\n",
       "        vertical-align: top;\n",
       "    }\n",
       "\n",
       "    .dataframe thead th {\n",
       "        text-align: right;\n",
       "    }\n",
       "</style>\n",
       "<table border=\"1\" class=\"dataframe\">\n",
       "  <thead>\n",
       "    <tr style=\"text-align: right;\">\n",
       "      <th></th>\n",
       "      <th>0</th>\n",
       "      <th>1</th>\n",
       "      <th>2</th>\n",
       "      <th>3</th>\n",
       "      <th>4</th>\n",
       "      <th>5</th>\n",
       "      <th>6</th>\n",
       "      <th>7</th>\n",
       "      <th>8</th>\n",
       "      <th>9</th>\n",
       "      <th>...</th>\n",
       "      <th>20</th>\n",
       "      <th>21</th>\n",
       "      <th>22</th>\n",
       "      <th>23</th>\n",
       "      <th>24</th>\n",
       "      <th>25</th>\n",
       "      <th>26</th>\n",
       "      <th>27</th>\n",
       "      <th>28</th>\n",
       "      <th>29</th>\n",
       "    </tr>\n",
       "  </thead>\n",
       "  <tbody>\n",
       "    <tr>\n",
       "      <th>0</th>\n",
       "      <td>-1.407908</td>\n",
       "      <td>-0.309538</td>\n",
       "      <td>-1.388304</td>\n",
       "      <td>-1.380325</td>\n",
       "      <td>0.357301</td>\n",
       "      <td>-0.540105</td>\n",
       "      <td>-0.945175</td>\n",
       "      <td>-0.900757</td>\n",
       "      <td>0.395719</td>\n",
       "      <td>0.281213</td>\n",
       "      <td>...</td>\n",
       "      <td>-1.347585</td>\n",
       "      <td>0.311848</td>\n",
       "      <td>-1.339466</td>\n",
       "      <td>-1.311901</td>\n",
       "      <td>0.406149</td>\n",
       "      <td>-0.773437</td>\n",
       "      <td>-0.851368</td>\n",
       "      <td>-0.733216</td>\n",
       "      <td>0.144352</td>\n",
       "      <td>-0.268762</td>\n",
       "    </tr>\n",
       "    <tr>\n",
       "      <th>1</th>\n",
       "      <td>-1.039010</td>\n",
       "      <td>0.743688</td>\n",
       "      <td>-1.065864</td>\n",
       "      <td>-1.014179</td>\n",
       "      <td>-0.583759</td>\n",
       "      <td>-1.028135</td>\n",
       "      <td>-0.668280</td>\n",
       "      <td>-1.085264</td>\n",
       "      <td>0.824042</td>\n",
       "      <td>-0.330713</td>\n",
       "      <td>...</td>\n",
       "      <td>-0.714292</td>\n",
       "      <td>1.072296</td>\n",
       "      <td>-0.669140</td>\n",
       "      <td>-0.744148</td>\n",
       "      <td>-0.030607</td>\n",
       "      <td>-0.462076</td>\n",
       "      <td>-0.220756</td>\n",
       "      <td>-0.545841</td>\n",
       "      <td>0.267284</td>\n",
       "      <td>-0.270349</td>\n",
       "    </tr>\n",
       "    <tr>\n",
       "      <th>2</th>\n",
       "      <td>0.743943</td>\n",
       "      <td>-1.069298</td>\n",
       "      <td>0.698806</td>\n",
       "      <td>0.724561</td>\n",
       "      <td>-0.058605</td>\n",
       "      <td>-0.220099</td>\n",
       "      <td>-0.253111</td>\n",
       "      <td>0.182801</td>\n",
       "      <td>-0.188340</td>\n",
       "      <td>-0.529340</td>\n",
       "      <td>...</td>\n",
       "      <td>0.566692</td>\n",
       "      <td>-0.996234</td>\n",
       "      <td>0.534685</td>\n",
       "      <td>0.542074</td>\n",
       "      <td>-0.484184</td>\n",
       "      <td>-0.436134</td>\n",
       "      <td>0.015940</td>\n",
       "      <td>0.108447</td>\n",
       "      <td>-0.066644</td>\n",
       "      <td>-0.832911</td>\n",
       "    </tr>\n",
       "    <tr>\n",
       "      <th>3</th>\n",
       "      <td>-0.457541</td>\n",
       "      <td>-0.228442</td>\n",
       "      <td>-0.496889</td>\n",
       "      <td>-0.480345</td>\n",
       "      <td>0.623025</td>\n",
       "      <td>-0.618208</td>\n",
       "      <td>-0.950716</td>\n",
       "      <td>-0.385461</td>\n",
       "      <td>0.431167</td>\n",
       "      <td>0.722865</td>\n",
       "      <td>...</td>\n",
       "      <td>-0.689885</td>\n",
       "      <td>-0.726650</td>\n",
       "      <td>-0.748048</td>\n",
       "      <td>-0.718463</td>\n",
       "      <td>-0.808206</td>\n",
       "      <td>-1.343949</td>\n",
       "      <td>-1.336309</td>\n",
       "      <td>-0.854560</td>\n",
       "      <td>-1.269486</td>\n",
       "      <td>-0.506036</td>\n",
       "    </tr>\n",
       "    <tr>\n",
       "      <th>4</th>\n",
       "      <td>-0.430890</td>\n",
       "      <td>0.840804</td>\n",
       "      <td>-0.474641</td>\n",
       "      <td>-0.403990</td>\n",
       "      <td>-1.066549</td>\n",
       "      <td>-1.212316</td>\n",
       "      <td>-1.162964</td>\n",
       "      <td>-1.159283</td>\n",
       "      <td>-1.006802</td>\n",
       "      <td>-0.332609</td>\n",
       "      <td>...</td>\n",
       "      <td>-0.265515</td>\n",
       "      <td>1.065509</td>\n",
       "      <td>-0.255764</td>\n",
       "      <td>-0.233976</td>\n",
       "      <td>-0.247105</td>\n",
       "      <td>-0.355912</td>\n",
       "      <td>-0.713294</td>\n",
       "      <td>-0.765156</td>\n",
       "      <td>0.488831</td>\n",
       "      <td>0.129795</td>\n",
       "    </tr>\n",
       "  </tbody>\n",
       "</table>\n",
       "<p>5 rows × 30 columns</p>\n",
       "</div>"
      ],
      "text/plain": [
       "         0         1         2         3         4         5         6   \\\n",
       "0 -1.407908 -0.309538 -1.388304 -1.380325  0.357301 -0.540105 -0.945175   \n",
       "1 -1.039010  0.743688 -1.065864 -1.014179 -0.583759 -1.028135 -0.668280   \n",
       "2  0.743943 -1.069298  0.698806  0.724561 -0.058605 -0.220099 -0.253111   \n",
       "3 -0.457541 -0.228442 -0.496889 -0.480345  0.623025 -0.618208 -0.950716   \n",
       "4 -0.430890  0.840804 -0.474641 -0.403990 -1.066549 -1.212316 -1.162964   \n",
       "\n",
       "         7         8         9   ...        20        21        22        23  \\\n",
       "0 -0.900757  0.395719  0.281213  ... -1.347585  0.311848 -1.339466 -1.311901   \n",
       "1 -1.085264  0.824042 -0.330713  ... -0.714292  1.072296 -0.669140 -0.744148   \n",
       "2  0.182801 -0.188340 -0.529340  ...  0.566692 -0.996234  0.534685  0.542074   \n",
       "3 -0.385461  0.431167  0.722865  ... -0.689885 -0.726650 -0.748048 -0.718463   \n",
       "4 -1.159283 -1.006802 -0.332609  ... -0.265515  1.065509 -0.255764 -0.233976   \n",
       "\n",
       "         24        25        26        27        28        29  \n",
       "0  0.406149 -0.773437 -0.851368 -0.733216  0.144352 -0.268762  \n",
       "1 -0.030607 -0.462076 -0.220756 -0.545841  0.267284 -0.270349  \n",
       "2 -0.484184 -0.436134  0.015940  0.108447 -0.066644 -0.832911  \n",
       "3 -0.808206 -1.343949 -1.336309 -0.854560 -1.269486 -0.506036  \n",
       "4 -0.247105 -0.355912 -0.713294 -0.765156  0.488831  0.129795  \n",
       "\n",
       "[5 rows x 30 columns]"
      ]
     },
     "execution_count": 27,
     "metadata": {},
     "output_type": "execute_result"
    }
   ],
   "source": [
    "# Converting to Pandas DataFrame\n",
    "X_train = pd.DataFrame(X_train)\n",
    "X_train.head()"
   ]
  },
  {
   "cell_type": "markdown",
   "id": "8aeb85be-59aa-4388-ab85-50f66df5cf47",
   "metadata": {},
   "source": [
    "#### 6.1.2 Handling Outliers "
   ]
  },
  {
   "cell_type": "markdown",
   "id": "4f37220b-77e5-4794-ab8a-8a17ad4930ca",
   "metadata": {},
   "source": [
    "##### 6.1.2.1 Visualization using Boxplot"
   ]
  },
  {
   "cell_type": "code",
   "execution_count": 30,
   "id": "11a62825-00c5-4ed9-a6b7-7f4d92d9d625",
   "metadata": {},
   "outputs": [
    {
     "data": {
      "text/plain": [
       "<Axes: >"
      ]
     },
     "execution_count": 30,
     "metadata": {},
     "output_type": "execute_result"
    },
    {
     "data": {
      "image/png": "[encoded data removed]",
      "text/plain": [
       "<Figure size 1500x800 with 1 Axes>"
      ]
     },
     "metadata": {},
     "output_type": "display_data"
    }
   ],
   "source": [
    "fig,ax = plt.subplots(figsize=(15,8))\n",
    "sns.boxplot(data=X_train, ax=ax)"
   ]
  },
  {
   "cell_type": "markdown",
   "id": "455adaa9-8522-446a-bdc2-12615ddf2a9d",
   "metadata": {},
   "source": [
    "##### 6.1.2.2 Using Statistical Methods"
   ]
  },
  {
   "cell_type": "markdown",
   "id": "14dc323b-d1ef-44ed-9f77-cd1350dd2e62",
   "metadata": {},
   "source": [
    "<b>Replacing Outliers with Upper/Lower Bound Using IQR:</b>\n",
    "\n",
    "Replacing outliers with upper/lower bounds using IQR involves calculating the interquartile range (IQR) of a numerical column. Outliers are values above Q3 + 1.5 * IQR or below Q1 - 1.5 * IQR. These outliers are then replaced with the nearest boundary (either Q3 + 1.5 * IQR or Q1 - 1.5 * IQR)."
   ]
  },
  {
   "cell_type": "code",
   "execution_count": 33,
   "id": "da23cb52-42ef-4c5a-baf0-d869074f712d",
   "metadata": {},
   "outputs": [],
   "source": [
    "for column in X_train.columns:\n",
    "    Q1 = X_train[column].quantile(0.25)\n",
    "    Q3 = X_train[column].quantile(0.75)\n",
    "    IQR = Q3 - Q1\n",
    "    UL = Q3 + 1.5 * IQR\n",
    "    LL = Q1 - 1.5 * IQR\n",
    "    X_train[column] = np.where(X_train[column] > UL, UL, X_train[column])\n",
    "    X_train[column] = np.where(X_train[column] < LL, LL, X_train[column])"
   ]
  },
  {
   "cell_type": "code",
   "execution_count": 34,
   "id": "c481a648-4153-470e-af65-7234efb258c0",
   "metadata": {},
   "outputs": [
    {
     "data": {
      "text/plain": [
       "<Axes: >"
      ]
     },
     "execution_count": 34,
     "metadata": {},
     "output_type": "execute_result"
    },
    {
     "data": {
      "image/png": "[encoded data removed]",
      "text/plain": [
       "<Figure size 1500x800 with 1 Axes>"
      ]
     },
     "metadata": {},
     "output_type": "display_data"
    }
   ],
   "source": [
    "fig,ax = plt.subplots(figsize=(15,8))\n",
    "sns.boxplot(data=X_train, ax=ax)"
   ]
  },
  {
   "cell_type": "markdown",
   "id": "4a20668a-0f1a-4647-a718-148614724344",
   "metadata": {},
   "source": [
    "#### 6.1.3 Handling Skewness\n",
    "- If skewness is less than -1 or greater than +1, the distribution is highly skewed.\n",
    "- If skewness is between -1 and -1/2 or between +1/2 and +1, the distribution is moderately skewed.\n",
    "- If skewness is between -1/2 and +1/2, the distribution is approximately skewed."
   ]
  },
  {
   "cell_type": "markdown",
   "id": "1fff8eef-0777-4aa4-82be-3f75f5779e68",
   "metadata": {},
   "source": [
    "##### 6.1.3.1 Visualization using Histogram"
   ]
  },
  {
   "cell_type": "code",
   "execution_count": 37,
   "id": "e72182ef-dab8-4f7e-8014-ce545767722e",
   "metadata": {},
   "outputs": [
    {
     "data": {
      "text/plain": [
       "array([[<Axes: title={'center': '0'}>, <Axes: title={'center': '1'}>,\n",
       "        <Axes: title={'center': '2'}>, <Axes: title={'center': '3'}>,\n",
       "        <Axes: title={'center': '4'}>],\n",
       "       [<Axes: title={'center': '5'}>, <Axes: title={'center': '6'}>,\n",
       "        <Axes: title={'center': '7'}>, <Axes: title={'center': '8'}>,\n",
       "        <Axes: title={'center': '9'}>],\n",
       "       [<Axes: title={'center': '10'}>, <Axes: title={'center': '11'}>,\n",
       "        <Axes: title={'center': '12'}>, <Axes: title={'center': '13'}>,\n",
       "        <Axes: title={'center': '14'}>],\n",
       "       [<Axes: title={'center': '15'}>, <Axes: title={'center': '16'}>,\n",
       "        <Axes: title={'center': '17'}>, <Axes: title={'center': '18'}>,\n",
       "        <Axes: title={'center': '19'}>],\n",
       "       [<Axes: title={'center': '20'}>, <Axes: title={'center': '21'}>,\n",
       "        <Axes: title={'center': '22'}>, <Axes: title={'center': '23'}>,\n",
       "        <Axes: title={'center': '24'}>],\n",
       "       [<Axes: title={'center': '25'}>, <Axes: title={'center': '26'}>,\n",
       "        <Axes: title={'center': '27'}>, <Axes: title={'center': '28'}>,\n",
       "        <Axes: title={'center': '29'}>]], dtype=object)"
      ]
     },
     "execution_count": 37,
     "metadata": {},
     "output_type": "execute_result"
    },
    {
     "data": {
      "image/png": "[encoded data removed]",
      "text/plain": [
       "<Figure size 1500x800 with 30 Axes>"
      ]
     },
     "metadata": {},
     "output_type": "display_data"
    }
   ],
   "source": [
    "X_train.hist(figsize=(15,8),bins=50,grid=False)"
   ]
  },
  {
   "cell_type": "markdown",
   "id": "00eb4c4d-9b07-4d57-9507-c93c36bf265e",
   "metadata": {},
   "source": [
    "##### 6.1.3.2 Calculating Skewness using `skew`"
   ]
  },
  {
   "cell_type": "code",
   "execution_count": 39,
   "id": "dc6f0db2-495f-4921-b31c-3b03856ce045",
   "metadata": {},
   "outputs": [
    {
     "name": "stdout",
     "output_type": "stream",
     "text": [
      "Skewness of Features:\n",
      " 0     0.087682\n",
      "1     0.005904\n",
      "2     0.090289\n",
      "3     0.095500\n",
      "4     0.033323\n",
      "5     0.091237\n",
      "6     0.219520\n",
      "7     0.205440\n",
      "8     0.041502\n",
      "9     0.022750\n",
      "10    0.221935\n",
      "11   -0.018462\n",
      "12    0.086949\n",
      "13    0.088883\n",
      "14    0.114118\n",
      "15    0.199699\n",
      "16    0.147150\n",
      "17   -0.018198\n",
      "18    0.143656\n",
      "19    0.241724\n",
      "20    0.079428\n",
      "21   -0.009305\n",
      "22    0.063887\n",
      "23    0.080657\n",
      "24   -0.043845\n",
      "25    0.081975\n",
      "26    0.076782\n",
      "27    0.054365\n",
      "28    0.023402\n",
      "29    0.072340\n",
      "dtype: float64\n"
     ]
    }
   ],
   "source": [
    "from scipy.stats import skew\n",
    "# Calculate skewness\n",
    "skewness = X_train.apply(skew)\n",
    "print(\"Skewness of Features:\\n\", skewness)"
   ]
  },
  {
   "cell_type": "code",
   "execution_count": 40,
   "id": "fc449520-515b-47cf-8906-eda17b5a2edb",
   "metadata": {},
   "outputs": [
    {
     "name": "stdout",
     "output_type": "stream",
     "text": [
      "Moderately skewed features:\n",
      " Index([], dtype='int64')\n"
     ]
    }
   ],
   "source": [
    "# Identify moderately skewed columns\n",
    "moderately_skewed_columns = skewness[(skewness >= 0.5) | (skewness <= -0.5)].index\n",
    "print(\"Moderately skewed features:\\n\", moderately_skewed_columns)"
   ]
  },
  {
   "cell_type": "markdown",
   "id": "949b3439-0bab-4d68-9110-728206d7b1d6",
   "metadata": {},
   "source": [
    "#### 6.1.4 Handling Multicollinearity\n",
    "\n",
    "1. Multicollinearity occurs when two or more predictor variables in regression model are highly correlated with each other.\n",
    "2. The VIF quantifies how much the variance of the coefficient estimates are inflated due to multicollinearity.\n",
    "##### VIF= $ \\frac{1}{1 - R_{i}^2} $\n",
    "3. A thumb rule for interpreting the variance inflation factor:\n",
    "- 1 = not correlated\n",
    "- Between 1 and 5 = moderately correlated\n",
    "- Greater than 5 = highy correlated"
   ]
  },
  {
   "cell_type": "markdown",
   "id": "1b77161c-7337-427e-a5b8-f811029dc694",
   "metadata": {},
   "source": [
    "##### 6.1.4.1 Correlation Plot"
   ]
  },
  {
   "cell_type": "code",
   "execution_count": 43,
   "id": "a854668e-8355-4996-bea9-d18f45699790",
   "metadata": {},
   "outputs": [
    {
     "name": "stdout",
     "output_type": "stream",
     "text": [
      "          0         1         2         3         4         5         6   \\\n",
      "0   1.000000  0.297736  0.998123  0.999636  0.136455  0.486342  0.639417   \n",
      "1   0.297736  1.000000  0.303333  0.301062 -0.012671  0.246810  0.319915   \n",
      "2   0.998123  0.303333  1.000000  0.997495  0.171486  0.534191  0.677469   \n",
      "3   0.999636  0.301062  0.997495  1.000000  0.127269  0.478495  0.637402   \n",
      "4   0.136455 -0.012671  0.171486  0.127269  1.000000  0.673596  0.505675   \n",
      "5   0.486342  0.246810  0.534191  0.478495  0.673596  1.000000  0.894717   \n",
      "6   0.639417  0.319915  0.677469  0.637402  0.505675  0.894717  1.000000   \n",
      "7   0.767798  0.279473  0.797062  0.764509  0.558546  0.847934  0.930365   \n",
      "8   0.109624  0.090107  0.139772  0.103291  0.532348  0.555652  0.442768   \n",
      "9  -0.400410 -0.071567 -0.355635 -0.408563  0.572679  0.491729  0.248014   \n",
      "10  0.580897  0.353507  0.590840  0.586261  0.332984  0.506724  0.592059   \n",
      "11 -0.172390  0.462560 -0.163691 -0.169395  0.102773  0.049895  0.067679   \n",
      "12  0.581271  0.372449  0.597692  0.585951  0.331643  0.571166  0.641841   \n",
      "13  0.755678  0.381502  0.762761  0.760504  0.289359  0.530229  0.646385   \n",
      "14 -0.315488  0.041522 -0.295689 -0.316486  0.365009  0.166886  0.095322   \n",
      "15  0.223554  0.236286  0.270370  0.219586  0.377065  0.807863  0.739607   \n",
      "16  0.307131  0.238465  0.348651  0.305550  0.328741  0.753874  0.828649   \n",
      "17  0.387029  0.179089  0.422906  0.384421  0.427166  0.718034  0.757573   \n",
      "18 -0.242469 -0.012608 -0.228329 -0.244858  0.152016  0.103774  0.029610   \n",
      "19 -0.039128  0.118704  0.002929 -0.043114  0.405209  0.627661  0.517592   \n",
      "20  0.979430  0.326421  0.980553  0.980619  0.182953  0.524936  0.669738   \n",
      "21  0.276639  0.912521  0.284068  0.280393  0.041267  0.263920  0.339752   \n",
      "22  0.974887  0.329836  0.980138  0.975733  0.204891  0.571378  0.705366   \n",
      "23  0.979623  0.327503  0.980300  0.981554  0.171445  0.513773  0.664805   \n",
      "24  0.106196  0.086640  0.137725  0.100130  0.813171  0.609198  0.493317   \n",
      "25  0.461033  0.268298  0.504305  0.455303  0.473140  0.898337  0.832287   \n",
      "26  0.554343  0.303610  0.592055  0.552157  0.416419  0.839971  0.930978   \n",
      "27  0.722042  0.281698  0.752394  0.718632  0.494304  0.832448  0.902458   \n",
      "28  0.161502  0.110470  0.184123  0.156418  0.370087  0.471581  0.389677   \n",
      "29 -0.006441  0.108164  0.037570 -0.012389  0.498585  0.690825  0.537039   \n",
      "\n",
      "          7         8         9   ...        20        21        22        23  \\\n",
      "0   0.767798  0.109624 -0.400410  ...  0.979430  0.276639  0.974887  0.979623   \n",
      "1   0.279473  0.090107 -0.071567  ...  0.326421  0.912521  0.329836  0.327503   \n",
      "2   0.797062  0.139772 -0.355635  ...  0.980553  0.284068  0.980138  0.980300   \n",
      "3   0.764509  0.103291 -0.408563  ...  0.980619  0.280393  0.975733  0.981554   \n",
      "4   0.558546  0.532348  0.572679  ...  0.182953  0.041267  0.204891  0.171445   \n",
      "5   0.847934  0.555652  0.491729  ...  0.524936  0.263920  0.571378  0.513773   \n",
      "6   0.930365  0.442768  0.248014  ...  0.669738  0.339752  0.705366  0.664805   \n",
      "7   1.000000  0.431495  0.112439  ...  0.791506  0.298176  0.814926  0.785270   \n",
      "8   0.431495  1.000000  0.424504  ...  0.144038  0.100729  0.168645  0.134647   \n",
      "9   0.112439  0.424504  1.000000  ... -0.353523 -0.037574 -0.311168 -0.364307   \n",
      "10  0.658969  0.320847 -0.050421  ...  0.628969  0.283084  0.621859  0.627583   \n",
      "11  0.008332  0.140130  0.190562  ... -0.174998  0.501451 -0.172170 -0.172583   \n",
      "12  0.685528  0.336461 -0.003596  ...  0.622339  0.300994  0.637997  0.621161   \n",
      "13  0.736017  0.271739 -0.181767  ...  0.791246  0.324315  0.784051  0.792997   \n",
      "14  0.037366  0.224285  0.423950  ... -0.322565 -0.035592 -0.308862 -0.324374   \n",
      "15  0.585695  0.431963  0.499003  ...  0.234070  0.202024  0.288702  0.228125   \n",
      "16  0.640501  0.348938  0.362931  ...  0.314227  0.212162  0.361560  0.311411   \n",
      "17  0.732323  0.387017  0.278167  ...  0.382115  0.118059  0.420016  0.377102   \n",
      "18 -0.025451  0.417671  0.308185  ... -0.264886 -0.118356 -0.254195 -0.270440   \n",
      "19  0.368699  0.409424  0.690914  ... -0.028684  0.071903  0.013833 -0.034388   \n",
      "20  0.791506  0.144038 -0.353523  ...  1.000000  0.343060  0.995101  0.999110   \n",
      "21  0.298176  0.100729 -0.037574  ...  0.343060  1.000000  0.348341  0.343783   \n",
      "22  0.814926  0.168645 -0.311168  ...  0.995101  0.348341  1.000000  0.994089   \n",
      "23  0.785270  0.134647 -0.364307  ...  0.999110  0.343783  0.994089  1.000000   \n",
      "24  0.501502  0.420169  0.504486  ...  0.198578  0.227457  0.219729  0.188522   \n",
      "25  0.745109  0.441304  0.399503  ...  0.527682  0.357998  0.576927  0.518090   \n",
      "26  0.815485  0.386871  0.256938  ...  0.609936  0.382732  0.650244  0.604672   \n",
      "27  0.937431  0.400591  0.128087  ...  0.772334  0.355466  0.802420  0.765209   \n",
      "28  0.370153  0.722676  0.286181  ...  0.247965  0.240726  0.268821  0.236846   \n",
      "29  0.404070  0.418522  0.767860  ...  0.079199  0.220501  0.124117  0.068947   \n",
      "\n",
      "          24        25        26        27        28        29  \n",
      "0   0.106196  0.461033  0.554343  0.722042  0.161502 -0.006441  \n",
      "1   0.086640  0.268298  0.303610  0.281698  0.110470  0.108164  \n",
      "2   0.137725  0.504305  0.592055  0.752394  0.184123  0.037570  \n",
      "3   0.100130  0.455303  0.552157  0.718632  0.156418 -0.012389  \n",
      "4   0.813171  0.473140  0.416419  0.494304  0.370087  0.498585  \n",
      "5   0.609198  0.898337  0.839971  0.832448  0.471581  0.690825  \n",
      "6   0.493317  0.832287  0.930978  0.902458  0.389677  0.537039  \n",
      "7   0.501502  0.745109  0.815485  0.937431  0.370153  0.404070  \n",
      "8   0.420169  0.441304  0.386871  0.400591  0.722676  0.418522  \n",
      "9   0.504486  0.399503  0.256938  0.128087  0.286181  0.767860  \n",
      "10  0.187522  0.322302  0.391001  0.515295  0.130211  0.063916  \n",
      "11 -0.021164 -0.098287 -0.070925 -0.114148 -0.139561 -0.033195  \n",
      "12  0.182670  0.401801  0.454119  0.558284  0.141620  0.120258  \n",
      "13  0.170728  0.385670  0.469683  0.612019  0.140635  0.034411  \n",
      "14  0.378863 -0.026412 -0.049317 -0.076189 -0.087500  0.139480  \n",
      "15  0.326423  0.773387  0.693564  0.571805  0.275061  0.619297  \n",
      "16  0.295669  0.702030  0.800494  0.633618  0.218709  0.509845  \n",
      "17  0.298016  0.566369  0.627012  0.687362  0.150523  0.350707  \n",
      "18 -0.053606 -0.080213 -0.110758 -0.142191  0.304348  0.015193  \n",
      "19  0.316542  0.525677  0.444417  0.322082  0.183516  0.711640  \n",
      "20  0.198578  0.527682  0.609936  0.772334  0.247965  0.079199  \n",
      "21  0.227457  0.357998  0.382732  0.355466  0.240726  0.220501  \n",
      "22  0.219729  0.576927  0.650244  0.802420  0.268821  0.124117  \n",
      "23  0.188522  0.518090  0.604672  0.765209  0.236846  0.068947  \n",
      "24  1.000000  0.594243  0.531226  0.559806  0.492773  0.638934  \n",
      "25  0.594243  1.000000  0.911237  0.844776  0.571194  0.778324  \n",
      "26  0.531226  0.911237  1.000000  0.895582  0.492579  0.645017  \n",
      "27  0.559806  0.844776  0.895582  1.000000  0.483064  0.520421  \n",
      "28  0.492773  0.571194  0.492579  0.483064  1.000000  0.527066  \n",
      "29  0.638934  0.778324  0.645017  0.520421  0.527066  1.000000  \n",
      "\n",
      "[30 rows x 30 columns]\n"
     ]
    },
    {
     "data": {
      "text/plain": [
       "Text(0.5, 1.0, 'Correlation between features')"
      ]
     },
     "execution_count": 43,
     "metadata": {},
     "output_type": "execute_result"
    },
    {
     "data": {
      "image/png": "[encoded data removed]",
      "text/plain": [
       "<Figure size 1500x1500 with 2 Axes>"
      ]
     },
     "metadata": {},
     "output_type": "display_data"
    }
   ],
   "source": [
    "corr=X_train.corr()\n",
    "print(corr)\n",
    "\n",
    "plt.figure(figsize=(15,15))\n",
    "sns.heatmap(corr,\n",
    "           cmap='YlGnBu',vmax=1.0, vmin=-1.0, linewidths=0.1,\n",
    "           annot=True,square=True);\n",
    "plt.title('Correlation between features')\n",
    "\n",
    "# 0.0 - 0.2 -> Weak Correlation\n",
    "# 0.3 - 0.6 -> Moderate Correlation\n",
    "# 0.7 - 1.0 -> Strong Correlation\n",
    "# 1 perfect positive\n",
    "# -1 perfect negative"
   ]
  },
  {
   "cell_type": "code",
   "execution_count": 44,
   "id": "563db88b-bfde-4412-baff-931b48f75ece",
   "metadata": {},
   "outputs": [
    {
     "name": "stderr",
     "output_type": "stream",
     "text": [
      "C:\\Users\\vaibh\\anaconda3\\Lib\\site-packages\\seaborn\\matrix.py:260: FutureWarning: Format strings passed to MaskedConstant are ignored, but in future may error or produce different behavior\n",
      "  annotation = (\"{:\" + self.fmt + \"}\").format(val)\n"
     ]
    },
    {
     "data": {
      "text/plain": [
       "Text(0.5, 1.0, 'Strong Correlation between features')"
      ]
     },
     "execution_count": 44,
     "metadata": {},
     "output_type": "execute_result"
    },
    {
     "data": {
      "image/png": "[encoded data removed]",
      "text/plain": [
       "<Figure size 1500x1500 with 2 Axes>"
      ]
     },
     "metadata": {},
     "output_type": "display_data"
    }
   ],
   "source": [
    "plt.figure(figsize=(15,15))\n",
    "sns.heatmap(corr[(corr >= 0.7) | (corr <= -0.7)],\n",
    "           cmap='YlGnBu',vmax=1.0, vmin=-1.0, linewidths=0.1,\n",
    "           annot=True,square=True);\n",
    "plt.title('Strong Correlation between features')"
   ]
  },
  {
   "cell_type": "markdown",
   "id": "2ec25a3d-2e24-444a-a6f4-d54d3274c9de",
   "metadata": {},
   "source": [
    "##### 6.1.4.2 Variance Inflation Factor(VIF)"
   ]
  },
  {
   "cell_type": "code",
   "execution_count": 46,
   "id": "39e902bd-268d-48c1-a933-22e3cc77602a",
   "metadata": {},
   "outputs": [],
   "source": [
    "from statsmodels.stats.outliers_influence import variance_inflation_factor"
   ]
  },
  {
   "cell_type": "code",
   "execution_count": 47,
   "id": "ae489f90-592c-460c-923c-a1e183136c51",
   "metadata": {},
   "outputs": [
    {
     "data": {
      "text/plain": [
       "(455, 30)"
      ]
     },
     "execution_count": 47,
     "metadata": {},
     "output_type": "execute_result"
    }
   ],
   "source": [
    "X_train.shape"
   ]
  },
  {
   "cell_type": "code",
   "execution_count": 48,
   "id": "5340477f-25a5-42c7-85b9-b0b873d8c5fc",
   "metadata": {
    "scrolled": true
   },
   "outputs": [
    {
     "data": {
      "text/html": [
       "<div>\n",
       "<style scoped>\n",
       "    .dataframe tbody tr th:only-of-type {\n",
       "        vertical-align: middle;\n",
       "    }\n",
       "\n",
       "    .dataframe tbody tr th {\n",
       "        vertical-align: top;\n",
       "    }\n",
       "\n",
       "    .dataframe thead th {\n",
       "        text-align: right;\n",
       "    }\n",
       "</style>\n",
       "<table border=\"1\" class=\"dataframe\">\n",
       "  <thead>\n",
       "    <tr style=\"text-align: right;\">\n",
       "      <th></th>\n",
       "      <th>Features</th>\n",
       "      <th>VIF</th>\n",
       "    </tr>\n",
       "  </thead>\n",
       "  <tbody>\n",
       "    <tr>\n",
       "      <th>0</th>\n",
       "      <td>mean radius</td>\n",
       "      <td>6281.803583</td>\n",
       "    </tr>\n",
       "    <tr>\n",
       "      <th>1</th>\n",
       "      <td>mean texture</td>\n",
       "      <td>21.691123</td>\n",
       "    </tr>\n",
       "    <tr>\n",
       "      <th>2</th>\n",
       "      <td>mean perimeter</td>\n",
       "      <td>3425.339600</td>\n",
       "    </tr>\n",
       "    <tr>\n",
       "      <th>3</th>\n",
       "      <td>mean area</td>\n",
       "      <td>7422.638138</td>\n",
       "    </tr>\n",
       "    <tr>\n",
       "      <th>4</th>\n",
       "      <td>mean smoothness</td>\n",
       "      <td>11.953895</td>\n",
       "    </tr>\n",
       "    <tr>\n",
       "      <th>5</th>\n",
       "      <td>mean compactness</td>\n",
       "      <td>49.812029</td>\n",
       "    </tr>\n",
       "    <tr>\n",
       "      <th>6</th>\n",
       "      <td>mean concavity</td>\n",
       "      <td>82.473713</td>\n",
       "    </tr>\n",
       "    <tr>\n",
       "      <th>7</th>\n",
       "      <td>mean concave points</td>\n",
       "      <td>54.799244</td>\n",
       "    </tr>\n",
       "    <tr>\n",
       "      <th>8</th>\n",
       "      <td>mean symmetry</td>\n",
       "      <td>6.209364</td>\n",
       "    </tr>\n",
       "    <tr>\n",
       "      <th>9</th>\n",
       "      <td>mean fractal dimension</td>\n",
       "      <td>15.261207</td>\n",
       "    </tr>\n",
       "    <tr>\n",
       "      <th>10</th>\n",
       "      <td>radius error</td>\n",
       "      <td>84.455317</td>\n",
       "    </tr>\n",
       "    <tr>\n",
       "      <th>11</th>\n",
       "      <td>texture error</td>\n",
       "      <td>11.612439</td>\n",
       "    </tr>\n",
       "    <tr>\n",
       "      <th>12</th>\n",
       "      <td>perimeter error</td>\n",
       "      <td>42.720129</td>\n",
       "    </tr>\n",
       "    <tr>\n",
       "      <th>13</th>\n",
       "      <td>area error</td>\n",
       "      <td>80.861026</td>\n",
       "    </tr>\n",
       "    <tr>\n",
       "      <th>14</th>\n",
       "      <td>smoothness error</td>\n",
       "      <td>7.591102</td>\n",
       "    </tr>\n",
       "    <tr>\n",
       "      <th>15</th>\n",
       "      <td>compactness error</td>\n",
       "      <td>41.584726</td>\n",
       "    </tr>\n",
       "    <tr>\n",
       "      <th>16</th>\n",
       "      <td>concavity error</td>\n",
       "      <td>31.513099</td>\n",
       "    </tr>\n",
       "    <tr>\n",
       "      <th>17</th>\n",
       "      <td>concave points error</td>\n",
       "      <td>14.428619</td>\n",
       "    </tr>\n",
       "    <tr>\n",
       "      <th>18</th>\n",
       "      <td>symmetry error</td>\n",
       "      <td>7.490240</td>\n",
       "    </tr>\n",
       "    <tr>\n",
       "      <th>19</th>\n",
       "      <td>fractal dimension error</td>\n",
       "      <td>18.497958</td>\n",
       "    </tr>\n",
       "    <tr>\n",
       "      <th>20</th>\n",
       "      <td>worst radius</td>\n",
       "      <td>2020.430790</td>\n",
       "    </tr>\n",
       "    <tr>\n",
       "      <th>21</th>\n",
       "      <td>worst texture</td>\n",
       "      <td>44.837449</td>\n",
       "    </tr>\n",
       "    <tr>\n",
       "      <th>22</th>\n",
       "      <td>worst perimeter</td>\n",
       "      <td>635.184892</td>\n",
       "    </tr>\n",
       "    <tr>\n",
       "      <th>23</th>\n",
       "      <td>worst area</td>\n",
       "      <td>2051.983126</td>\n",
       "    </tr>\n",
       "    <tr>\n",
       "      <th>24</th>\n",
       "      <td>worst smoothness</td>\n",
       "      <td>20.180684</td>\n",
       "    </tr>\n",
       "    <tr>\n",
       "      <th>25</th>\n",
       "      <td>worst compactness</td>\n",
       "      <td>104.694939</td>\n",
       "    </tr>\n",
       "    <tr>\n",
       "      <th>26</th>\n",
       "      <td>worst concavity</td>\n",
       "      <td>77.534337</td>\n",
       "    </tr>\n",
       "    <tr>\n",
       "      <th>27</th>\n",
       "      <td>worst concave points</td>\n",
       "      <td>51.738059</td>\n",
       "    </tr>\n",
       "    <tr>\n",
       "      <th>28</th>\n",
       "      <td>worst symmetry</td>\n",
       "      <td>16.058346</td>\n",
       "    </tr>\n",
       "    <tr>\n",
       "      <th>29</th>\n",
       "      <td>worst fractal dimension</td>\n",
       "      <td>40.150470</td>\n",
       "    </tr>\n",
       "  </tbody>\n",
       "</table>\n",
       "</div>"
      ],
      "text/plain": [
       "                   Features          VIF\n",
       "0               mean radius  6281.803583\n",
       "1              mean texture    21.691123\n",
       "2            mean perimeter  3425.339600\n",
       "3                 mean area  7422.638138\n",
       "4           mean smoothness    11.953895\n",
       "5          mean compactness    49.812029\n",
       "6            mean concavity    82.473713\n",
       "7       mean concave points    54.799244\n",
       "8             mean symmetry     6.209364\n",
       "9    mean fractal dimension    15.261207\n",
       "10             radius error    84.455317\n",
       "11            texture error    11.612439\n",
       "12          perimeter error    42.720129\n",
       "13               area error    80.861026\n",
       "14         smoothness error     7.591102\n",
       "15        compactness error    41.584726\n",
       "16          concavity error    31.513099\n",
       "17     concave points error    14.428619\n",
       "18           symmetry error     7.490240\n",
       "19  fractal dimension error    18.497958\n",
       "20             worst radius  2020.430790\n",
       "21            worst texture    44.837449\n",
       "22          worst perimeter   635.184892\n",
       "23               worst area  2051.983126\n",
       "24         worst smoothness    20.180684\n",
       "25        worst compactness   104.694939\n",
       "26          worst concavity    77.534337\n",
       "27     worst concave points    51.738059\n",
       "28           worst symmetry    16.058346\n",
       "29  worst fractal dimension    40.150470"
      ]
     },
     "execution_count": 48,
     "metadata": {},
     "output_type": "execute_result"
    }
   ],
   "source": [
    "vif_df = pd.DataFrame()\n",
    "vif_df['Features'] = X.columns\n",
    "vif_df['VIF'] = [variance_inflation_factor(X_train,i) for i in range (X_train.shape[1])] \n",
    "vif_df"
   ]
  },
  {
   "cell_type": "markdown",
   "id": "4896c3d4-0394-4486-b854-da0a3385290d",
   "metadata": {},
   "source": [
    "##### 6.1.4.3 Handling high VIF using Iterative Method\n",
    "Handling VIF using an iterative method involves calculating the VIF for each feature, identifying the feature with highest VIF that exceeds a chosen threshold, and removing it from the dataset. This process is repeated until all remaining features have VIF values below the threshold, reducing multicollinearity in the model."
   ]
  },
  {
   "cell_type": "code",
   "execution_count": 50,
   "id": "2a45596b-a508-42e6-830a-65d2550a466c",
   "metadata": {},
   "outputs": [
    {
     "name": "stdout",
     "output_type": "stream",
     "text": [
      "    Feature Index          VIF\n",
      "3               3  7422.638138\n",
      "0               0  6281.803583\n",
      "2               2  3425.339600\n",
      "23             23  2051.983126\n",
      "20             20  2020.430790\n",
      "22             22   635.184892\n",
      "25             25   104.694939\n",
      "10             10    84.455317\n",
      "6               6    82.473713\n",
      "13             13    80.861026\n",
      "26             26    77.534337\n",
      "7               7    54.799244\n",
      "27             27    51.738059\n",
      "5               5    49.812029\n",
      "21             21    44.837449\n",
      "12             12    42.720129\n",
      "15             15    41.584726\n",
      "29             29    40.150470\n",
      "16             16    31.513099\n",
      "1               1    21.691123\n",
      "24             24    20.180684\n",
      "19             19    18.497958\n",
      "28             28    16.058346\n",
      "9               9    15.261207\n",
      "17             17    14.428619\n",
      "4               4    11.953895\n",
      "11             11    11.612439\n",
      "14             14     7.591102\n",
      "18             18     7.490240\n",
      "8               8     6.209364\n"
     ]
    }
   ],
   "source": [
    "# Calculate VIF\n",
    "vif_data = pd.DataFrame()\n",
    "vif_data[\"Feature Index\"] = X_train.columns\n",
    "vif_data[\"VIF\"] = [variance_inflation_factor(X_train.values, i) for i in range(X_train.shape[1])]\n",
    "\n",
    "print(vif_data.sort_values(by=\"VIF\", ascending=False))"
   ]
  },
  {
   "cell_type": "code",
   "execution_count": 51,
   "id": "096075ee-1f81-4f6b-8705-4aecc492ca5f",
   "metadata": {},
   "outputs": [
    {
     "name": "stdout",
     "output_type": "stream",
     "text": [
      "    Feature Index          VIF\n",
      "2               2  2983.100671\n",
      "0               0  2501.289629\n",
      "19             20  1280.063090\n",
      "22             23   961.706068\n",
      "21             22   635.024011\n",
      "24             25   102.937808\n",
      "5               6    80.876819\n",
      "25             26    77.114917\n",
      "9              10    73.038214\n",
      "12             13    66.870913\n",
      "6               7    54.743995\n",
      "26             27    50.728578\n",
      "4               5    45.739662\n",
      "20             21    44.828499\n",
      "11             12    42.703554\n",
      "14             15    40.485413\n",
      "28             29    39.353275\n",
      "15             16    30.790522\n",
      "1               1    21.673794\n",
      "23             24    20.151022\n",
      "18             19    18.276405\n",
      "27             28    16.049726\n",
      "8               9    14.759500\n",
      "16             17    14.189903\n",
      "3               4    11.901153\n",
      "10             11    11.608297\n",
      "13             14     7.585540\n",
      "17             18     7.488477\n",
      "7               8     6.206515\n"
     ]
    }
   ],
   "source": [
    "# Iteration 1\n",
    "X_train = X_train.drop(columns=[3])\n",
    "vif_df1 = pd.DataFrame()\n",
    "vif_df1[\"Feature Index\"] = X_train.columns\n",
    "vif_df1['VIF'] = [variance_inflation_factor(X_train,i) for i in range (X_train.shape[1])] \n",
    "\n",
    "print(vif_df1.sort_values(by=\"VIF\", ascending=False))"
   ]
  },
  {
   "cell_type": "code",
   "execution_count": 52,
   "id": "b07b0b1e-e1e7-4861-9075-a1811f9cb3e8",
   "metadata": {},
   "outputs": [
    {
     "name": "stdout",
     "output_type": "stream",
     "text": [
      "    Feature Index          VIF\n",
      "18             20  1170.029596\n",
      "21             23   944.472314\n",
      "20             22   510.917139\n",
      "23             25   102.907397\n",
      "0               0    92.509544\n",
      "4               6    79.530594\n",
      "24             26    76.907295\n",
      "8              10    72.956785\n",
      "11             13    66.431971\n",
      "5               7    54.729943\n",
      "25             27    50.533747\n",
      "19             21    44.770693\n",
      "10             12    40.640635\n",
      "13             15    40.433288\n",
      "27             29    39.084692\n",
      "3               5    39.068286\n",
      "14             16    30.080277\n",
      "1               1    21.640742\n",
      "22             24    19.836213\n",
      "17             19    18.255444\n",
      "26             28    15.918668\n",
      "7               9    14.514186\n",
      "15             17    14.001053\n",
      "2               4    11.879062\n",
      "9              11    11.601507\n",
      "12             14     7.538074\n",
      "16             18     7.427503\n",
      "6               8     6.187288\n"
     ]
    }
   ],
   "source": [
    "# Iteration 2\n",
    "X_train = X_train.drop(columns=[2])\n",
    "vif_df2 = pd.DataFrame()\n",
    "vif_df2[\"Feature Index\"] = X_train.columns\n",
    "vif_df2['VIF'] = [variance_inflation_factor(X_train,i) for i in range (X_train.shape[1])] \n",
    "\n",
    "print(vif_df2.sort_values(by=\"VIF\", ascending=False))"
   ]
  },
  {
   "cell_type": "code",
   "execution_count": 53,
   "id": "1ba19271-af82-476d-b6f3-4ac8cd58221d",
   "metadata": {},
   "outputs": [
    {
     "name": "stdout",
     "output_type": "stream",
     "text": [
      "    Feature Index         VIF\n",
      "20             23  441.039341\n",
      "19             22  410.706809\n",
      "22             25  102.482220\n",
      "0               0   87.551140\n",
      "4               6   78.611541\n",
      "23             26   76.730717\n",
      "11             13   60.652012\n",
      "5               7   54.607727\n",
      "8              10   50.484351\n",
      "24             27   50.295385\n",
      "18             21   44.759285\n",
      "13             15   39.997398\n",
      "26             29   39.048388\n",
      "3               5   38.968639\n",
      "10             12   34.584534\n",
      "14             16   30.061029\n",
      "1               1   21.640696\n",
      "21             24   19.835598\n",
      "17             19   18.238543\n",
      "25             28   15.917986\n",
      "7               9   14.485474\n",
      "15             17   13.880708\n",
      "2               4   11.877279\n",
      "9              11   11.601460\n",
      "12             14    7.531076\n",
      "16             18    7.409103\n",
      "6               8    6.181090\n"
     ]
    }
   ],
   "source": [
    "# Iteration 3\n",
    "X_train = X_train.drop(columns=[20])\n",
    "vif_df3 = pd.DataFrame()\n",
    "vif_df3[\"Feature Index\"] = X_train.columns\n",
    "vif_df3['VIF'] = [variance_inflation_factor(X_train,i) for i in range (X_train.shape[1])] \n",
    "\n",
    "print(vif_df3.sort_values(by=\"VIF\", ascending=False))"
   ]
  },
  {
   "cell_type": "code",
   "execution_count": 54,
   "id": "43e3d212-de56-469b-8927-f26d6daa92e3",
   "metadata": {},
   "outputs": [
    {
     "name": "stdout",
     "output_type": "stream",
     "text": [
      "    Feature Index         VIF\n",
      "19             22  117.105998\n",
      "21             25  101.756171\n",
      "0               0   79.499406\n",
      "4               6   78.366840\n",
      "22             26   76.618628\n",
      "5               7   54.605323\n",
      "11             13   51.413401\n",
      "23             27   50.193092\n",
      "8              10   46.020967\n",
      "18             21   43.685088\n",
      "13             15   39.884719\n",
      "25             29   39.047035\n",
      "3               5   37.876910\n",
      "14             16   29.959999\n",
      "10             12   21.716511\n",
      "1               1   21.237294\n",
      "20             24   19.677140\n",
      "17             19   18.209642\n",
      "24             28   15.884604\n",
      "7               9   14.458899\n",
      "15             17   13.880708\n",
      "2               4   11.845767\n",
      "9              11   11.373742\n",
      "12             14    7.483823\n",
      "16             18    7.331525\n",
      "6               8    6.172924\n"
     ]
    }
   ],
   "source": [
    "# Iteration 4\n",
    "X_train = X_train.drop(columns=[23])\n",
    "vif_df4 = pd.DataFrame()\n",
    "vif_df4[\"Feature Index\"] = X_train.columns\n",
    "vif_df4['VIF'] = [variance_inflation_factor(X_train,i) for i in range (X_train.shape[1])] \n",
    "\n",
    "print(vif_df4.sort_values(by=\"VIF\", ascending=False))"
   ]
  },
  {
   "cell_type": "code",
   "execution_count": 55,
   "id": "ef39f1fe-6335-4f4b-868c-7437ef3cd414",
   "metadata": {},
   "outputs": [
    {
     "name": "stdout",
     "output_type": "stream",
     "text": [
      "    Feature Index         VIF\n",
      "20             25  100.307746\n",
      "4               6   78.341877\n",
      "21             26   76.418864\n",
      "5               7   54.572546\n",
      "11             13   49.682057\n",
      "22             27   49.530993\n",
      "8              10   44.510907\n",
      "13             15   39.673174\n",
      "24             29   39.016822\n",
      "18             21   38.901277\n",
      "3               5   37.790365\n",
      "14             16   29.785982\n",
      "19             24   19.618266\n",
      "1               1   18.986807\n",
      "17             19   18.208860\n",
      "10             12   16.399373\n",
      "23             28   15.765152\n",
      "7               9   14.350599\n",
      "0               0   14.065706\n",
      "15             17   13.854329\n",
      "2               4   11.828794\n",
      "9              11   10.395475\n",
      "12             14    7.440082\n",
      "16             18    7.274094\n",
      "6               8    6.134915\n"
     ]
    }
   ],
   "source": [
    "# Iteration 5\n",
    "X_train = X_train.drop(columns=[22])\n",
    "vif_df5 = pd.DataFrame()\n",
    "vif_df5[\"Feature Index\"] = X_train.columns\n",
    "vif_df5['VIF'] = [variance_inflation_factor(X_train,i) for i in range (X_train.shape[1])] \n",
    "\n",
    "print(vif_df5.sort_values(by=\"VIF\", ascending=False))"
   ]
  },
  {
   "cell_type": "code",
   "execution_count": 56,
   "id": "73a8d5c1-7c85-4539-9556-081af0f3f1ef",
   "metadata": {},
   "outputs": [
    {
     "name": "stdout",
     "output_type": "stream",
     "text": [
      "    Feature Index        VIF\n",
      "4               6  73.468708\n",
      "20             26  58.787391\n",
      "5               7  54.567853\n",
      "11             13  49.681852\n",
      "21             27  49.161134\n",
      "8              10  44.224029\n",
      "18             21  38.401491\n",
      "23             29  34.888295\n",
      "14             16  25.749047\n",
      "3               5  22.344490\n",
      "19             24  19.278077\n",
      "1               1  18.749188\n",
      "17             19  16.698250\n",
      "10             12  16.110601\n",
      "22             28  14.720019\n",
      "0               0  14.021582\n",
      "7               9  13.874200\n",
      "15             17  13.760004\n",
      "13             15  12.233473\n",
      "2               4  11.556614\n",
      "9              11  10.234184\n",
      "12             14   7.379608\n",
      "16             18   6.937604\n",
      "6               8   5.845883\n"
     ]
    }
   ],
   "source": [
    "# Iteration 6\n",
    "X_train = X_train.drop(columns=[25])\n",
    "vif_df6 = pd.DataFrame()\n",
    "vif_df6[\"Feature Index\"] = X_train.columns\n",
    "vif_df6['VIF'] = [variance_inflation_factor(X_train,i) for i in range (X_train.shape[1])] \n",
    "\n",
    "print(vif_df6.sort_values(by=\"VIF\", ascending=False))"
   ]
  },
  {
   "cell_type": "code",
   "execution_count": 57,
   "id": "2123f17d-72a4-41ea-8ce1-ee985b967db0",
   "metadata": {},
   "outputs": [
    {
     "name": "stdout",
     "output_type": "stream",
     "text": [
      "    Feature Index        VIF\n",
      "10             13  49.422215\n",
      "20             27  46.793562\n",
      "7              10  43.795744\n",
      "17             21  38.393827\n",
      "19             26  36.902410\n",
      "22             29  34.802045\n",
      "4               7  27.709086\n",
      "13             16  24.362510\n",
      "3               5  22.012762\n",
      "18             24  19.244431\n",
      "1               1  18.749017\n",
      "16             19  16.662909\n",
      "9              12  16.110400\n",
      "21             28  14.415717\n",
      "0               0  14.019659\n",
      "6               9  13.776568\n",
      "14             17  13.546018\n",
      "12             15  12.062146\n",
      "2               4  11.477382\n",
      "8              11  10.232254\n",
      "11             14   7.321298\n",
      "15             18   6.819552\n",
      "5               8   5.788912\n"
     ]
    }
   ],
   "source": [
    "# Iteration 7\n",
    "X_train = X_train.drop(columns=[6])\n",
    "vif_df7 = pd.DataFrame()\n",
    "vif_df7[\"Feature Index\"] = X_train.columns\n",
    "vif_df7['VIF'] = [variance_inflation_factor(X_train,i) for i in range (X_train.shape[1])] \n",
    "\n",
    "print(vif_df7.sort_values(by=\"VIF\", ascending=False))"
   ]
  },
  {
   "cell_type": "code",
   "execution_count": 58,
   "id": "c0b9000f-a84a-4fd8-8995-b4e1fd4babec",
   "metadata": {},
   "outputs": [
    {
     "name": "stdout",
     "output_type": "stream",
     "text": [
      "    Feature Index        VIF\n",
      "19             27  46.003234\n",
      "16             21  38.122817\n",
      "18             26  36.165457\n",
      "21             29  34.614580\n",
      "4               7  27.618416\n",
      "12             16  24.054634\n",
      "3               5  22.012759\n",
      "17             24  19.225290\n",
      "1               1  18.647499\n",
      "15             19  16.567013\n",
      "9              12  16.030802\n",
      "7              10  15.257631\n",
      "20             28  14.338541\n",
      "6               9  13.564385\n",
      "13             17  13.278084\n",
      "11             15  12.038065\n",
      "2               4  11.391970\n",
      "8              11  10.223335\n",
      "0               0   9.353856\n",
      "10             14   7.319175\n",
      "14             18   6.811239\n",
      "5               8   5.772144\n"
     ]
    }
   ],
   "source": [
    "# Iteration 8\n",
    "X_train = X_train.drop(columns=[13])\n",
    "vif_df8 = pd.DataFrame()\n",
    "vif_df8[\"Feature Index\"] = X_train.columns\n",
    "vif_df8['VIF'] = [variance_inflation_factor(X_train,i) for i in range (X_train.shape[1])] \n",
    "\n",
    "print(vif_df8.sort_values(by=\"VIF\", ascending=False))"
   ]
  },
  {
   "cell_type": "code",
   "execution_count": 59,
   "id": "492af713-c5f9-44b0-ac6b-ea7771fc96d5",
   "metadata": {},
   "outputs": [
    {
     "name": "stdout",
     "output_type": "stream",
     "text": [
      "    Feature Index        VIF\n",
      "16             21  36.445116\n",
      "20             29  34.544549\n",
      "18             26  27.217697\n",
      "3               5  21.970450\n",
      "4               7  20.927709\n",
      "12             16  19.590398\n",
      "17             24  18.608570\n",
      "1               1  17.969175\n",
      "15             19  16.521947\n",
      "9              12  15.990483\n",
      "7              10  15.203452\n",
      "19             28  14.306489\n",
      "6               9  13.559083\n",
      "11             15  11.945812\n",
      "2               4  11.248635\n",
      "8              11   9.828211\n",
      "0               0   8.952214\n",
      "10             14   7.177281\n",
      "13             17   7.037247\n",
      "14             18   6.806593\n",
      "5               8   5.764068\n"
     ]
    }
   ],
   "source": [
    "# Iteration 9\n",
    "X_train = X_train.drop(columns=[27])\n",
    "vif_df9 = pd.DataFrame()\n",
    "vif_df9[\"Feature Index\"] = X_train.columns\n",
    "vif_df9['VIF'] = [variance_inflation_factor(X_train,i) for i in range (X_train.shape[1])] \n",
    "\n",
    "print(vif_df9.sort_values(by=\"VIF\", ascending=False))"
   ]
  },
  {
   "cell_type": "code",
   "execution_count": 60,
   "id": "6a76948a-b475-4a57-9452-434ce3f7bfcd",
   "metadata": {},
   "outputs": [
    {
     "name": "stdout",
     "output_type": "stream",
     "text": [
      "    Feature Index        VIF\n",
      "19             29  32.791085\n",
      "17             26  27.119564\n",
      "3               5  21.927849\n",
      "4               7  20.770504\n",
      "12             16  19.358701\n",
      "16             24  17.490504\n",
      "9              12  15.910777\n",
      "15             19  15.785851\n",
      "7              10  15.001297\n",
      "6               9  13.059541\n",
      "18             28  12.042648\n",
      "11             15  11.877762\n",
      "2               4  10.792180\n",
      "0               0   8.949967\n",
      "13             17   6.977452\n",
      "10             14   6.893450\n",
      "14             18   6.058616\n",
      "5               8   5.138565\n",
      "8              11   2.676078\n",
      "1               1   2.066132\n"
     ]
    }
   ],
   "source": [
    "# Iteration 10\n",
    "X_train = X_train.drop(columns=[21])\n",
    "vif_df10 = pd.DataFrame()\n",
    "vif_df10[\"Feature Index\"] = X_train.columns\n",
    "vif_df10['VIF'] = [variance_inflation_factor(X_train,i) for i in range (X_train.shape[1])] \n",
    "\n",
    "print(vif_df10.sort_values(by=\"VIF\", ascending=False))"
   ]
  },
  {
   "cell_type": "code",
   "execution_count": 61,
   "id": "5fe8a718-0e30-432b-8e0b-4e0e23206029",
   "metadata": {},
   "outputs": [
    {
     "name": "stdout",
     "output_type": "stream",
     "text": [
      "    Feature Index        VIF\n",
      "17             26  24.502503\n",
      "3               5  21.909997\n",
      "4               7  20.711230\n",
      "12             16  17.482592\n",
      "9              12  15.909386\n",
      "7              10  15.000061\n",
      "16             24  14.867061\n",
      "11             15  11.852400\n",
      "18             28   9.493431\n",
      "2               4   9.425861\n",
      "0               0   8.926534\n",
      "13             17   6.969779\n",
      "6               9   6.792019\n",
      "10             14   6.196583\n",
      "15             19   5.369286\n",
      "14             18   4.940181\n",
      "5               8   4.536073\n",
      "8              11   2.624220\n",
      "1               1   2.052445\n"
     ]
    }
   ],
   "source": [
    "# Iteration 11\n",
    "X_train = X_train.drop(columns=[29])\n",
    "vif_df11 = pd.DataFrame()\n",
    "vif_df11[\"Feature Index\"] = X_train.columns\n",
    "vif_df11['VIF'] = [variance_inflation_factor(X_train,i) for i in range (X_train.shape[1])] \n",
    "\n",
    "print(vif_df11.sort_values(by=\"VIF\", ascending=False))"
   ]
  },
  {
   "cell_type": "code",
   "execution_count": 62,
   "id": "1afdede9-1bdd-441e-8cfd-7e235a66bddd",
   "metadata": {},
   "outputs": [
    {
     "name": "stdout",
     "output_type": "stream",
     "text": [
      "    Feature Index        VIF\n",
      "3               5  21.780603\n",
      "4               7  16.136431\n",
      "9              12  15.691738\n",
      "7              10  14.796720\n",
      "16             24  13.339242\n",
      "11             15  11.834465\n",
      "0               0   8.913506\n",
      "2               4   8.528310\n",
      "17             28   8.524326\n",
      "6               9   6.736428\n",
      "12             16   6.262715\n",
      "13             17   5.961165\n",
      "10             14   5.786299\n",
      "15             19   5.358368\n",
      "14             18   4.563636\n",
      "5               8   4.433359\n",
      "8              11   2.623835\n",
      "1               1   2.041008\n"
     ]
    }
   ],
   "source": [
    "# Iteration 12\n",
    "X_train = X_train.drop(columns=[26])\n",
    "vif_df12 = pd.DataFrame()\n",
    "vif_df12[\"Feature Index\"] = X_train.columns\n",
    "vif_df12['VIF'] = [variance_inflation_factor(X_train,i) for i in range (X_train.shape[1])] \n",
    "\n",
    "print(vif_df12.sort_values(by=\"VIF\", ascending=False))"
   ]
  },
  {
   "cell_type": "code",
   "execution_count": 63,
   "id": "41d9a430-12cb-45a2-9e17-4d4d1dd96a76",
   "metadata": {},
   "outputs": [
    {
     "name": "stdout",
     "output_type": "stream",
     "text": [
      "    Feature Index        VIF\n",
      "8              12  15.473821\n",
      "6              10  14.703656\n",
      "3               7  13.752309\n",
      "15             24  13.334412\n",
      "16             28   8.503841\n",
      "0               0   8.501597\n",
      "2               4   7.792583\n",
      "10             15   7.599046\n",
      "11             16   6.223302\n",
      "12             17   5.843710\n",
      "9              14   5.733016\n",
      "5               9   5.383490\n",
      "14             19   5.274914\n",
      "13             18   4.546130\n",
      "4               8   4.412800\n",
      "7              11   2.477613\n",
      "1               1   1.968420\n"
     ]
    }
   ],
   "source": [
    "# Iteration 13\n",
    "X_train = X_train.drop(columns=[5])\n",
    "vif_df13 = pd.DataFrame()\n",
    "vif_df13[\"Feature Index\"] = X_train.columns\n",
    "vif_df13['VIF'] = [variance_inflation_factor(X_train,i) for i in range (X_train.shape[1])] \n",
    "\n",
    "print(vif_df13.sort_values(by=\"VIF\", ascending=False))"
   ]
  },
  {
   "cell_type": "code",
   "execution_count": 64,
   "id": "6beb201e-24de-4b2b-b373-a515b82ca126",
   "metadata": {},
   "outputs": [
    {
     "name": "stdout",
     "output_type": "stream",
     "text": [
      "    Feature Index        VIF\n",
      "3               7  13.744536\n",
      "14             24  13.220736\n",
      "15             28   8.495661\n",
      "0               0   8.494840\n",
      "2               4   7.781990\n",
      "9              15   7.256734\n",
      "10             16   6.206651\n",
      "11             17   5.806390\n",
      "8              14   5.727790\n",
      "5               9   5.370923\n",
      "13             19   5.245231\n",
      "12             18   4.538753\n",
      "4               8   4.409944\n",
      "6              10   2.930978\n",
      "7              11   2.477560\n",
      "1               1   1.956898\n"
     ]
    }
   ],
   "source": [
    "# Iteration 14\n",
    "X_train = X_train.drop(columns=[12])\n",
    "vif_df14 = pd.DataFrame()\n",
    "vif_df14[\"Feature Index\"] = X_train.columns\n",
    "vif_df14['VIF'] = [variance_inflation_factor(X_train,i) for i in range (X_train.shape[1])] \n",
    "\n",
    "print(vif_df14.sort_values(by=\"VIF\", ascending=False))"
   ]
  },
  {
   "cell_type": "code",
   "execution_count": 65,
   "id": "caead669-4200-477b-9c95-05d4e4bff73d",
   "metadata": {},
   "outputs": [
    {
     "name": "stdout",
     "output_type": "stream",
     "text": [
      "    Feature Index        VIF\n",
      "13             24  12.567010\n",
      "14             28   8.492662\n",
      "2               4   7.693959\n",
      "8              15   7.255202\n",
      "9              16   6.120936\n",
      "7              14   5.603863\n",
      "4               9   5.249645\n",
      "12             19   5.234286\n",
      "11             18   4.537912\n",
      "10             17   4.526229\n",
      "0               0   4.449638\n",
      "3               8   4.386005\n",
      "5              10   2.820824\n",
      "6              11   2.468136\n",
      "1               1   1.955190\n"
     ]
    }
   ],
   "source": [
    "# Iteration 15\n",
    "X_train = X_train.drop(columns=[7])\n",
    "vif_df15 = pd.DataFrame()\n",
    "vif_df15[\"Feature Index\"] = X_train.columns\n",
    "vif_df15['VIF'] = [variance_inflation_factor(X_train,i) for i in range (X_train.shape[1])] \n",
    "\n",
    "print(vif_df15.sort_values(by=\"VIF\", ascending=False))"
   ]
  },
  {
   "cell_type": "code",
   "execution_count": 66,
   "id": "33eb0168-d32f-43ee-b16d-c8b00f426b4b",
   "metadata": {},
   "outputs": [
    {
     "name": "stdout",
     "output_type": "stream",
     "text": [
      "    Feature Index       VIF\n",
      "8              15  7.253513\n",
      "9              16  6.059263\n",
      "12             19  5.220110\n",
      "4               9  5.199052\n",
      "10             17  4.454892\n",
      "0               0  4.445858\n",
      "13             28  3.399048\n",
      "3               8  3.225665\n",
      "2               4  3.008238\n",
      "5              10  2.819480\n",
      "6              11  2.453682\n",
      "7              14  2.418893\n",
      "11             18  2.163022\n",
      "1               1  1.935118\n"
     ]
    }
   ],
   "source": [
    "# Iteration 16\n",
    "X_train = X_train.drop(columns=[24])\n",
    "vif_df16 = pd.DataFrame()\n",
    "vif_df16[\"Feature Index\"] = X_train.columns\n",
    "vif_df16['VIF'] = [variance_inflation_factor(X_train,i) for i in range (X_train.shape[1])] \n",
    "\n",
    "print(vif_df16.sort_values(by=\"VIF\", ascending=False))"
   ]
  },
  {
   "cell_type": "code",
   "execution_count": 67,
   "id": "ce3d536c-00a0-4747-97aa-cc327a6f81e1",
   "metadata": {},
   "outputs": [
    {
     "name": "stdout",
     "output_type": "stream",
     "text": [
      "    Feature Index       VIF\n",
      "4               9  5.136181\n",
      "9              17  4.403646\n",
      "0               0  4.366218\n",
      "8              16  4.318073\n",
      "11             19  4.293141\n",
      "12             28  3.375150\n",
      "3               8  3.223216\n",
      "2               4  2.977325\n",
      "5              10  2.815917\n",
      "6              11  2.451678\n",
      "7              14  2.416715\n",
      "10             18  2.162233\n",
      "1               1  1.929365\n"
     ]
    }
   ],
   "source": [
    "# Iteration 17\n",
    "X_train = X_train.drop(columns=[15])\n",
    "vif_df17 = pd.DataFrame()\n",
    "vif_df17[\"Feature Index\"] = X_train.columns\n",
    "vif_df17['VIF'] = [variance_inflation_factor(X_train,i) for i in range (X_train.shape[1])] \n",
    "\n",
    "print(vif_df17.sort_values(by=\"VIF\", ascending=False))"
   ]
  },
  {
   "cell_type": "code",
   "execution_count": 68,
   "id": "47724b81-8af3-4208-896c-2482569e352c",
   "metadata": {},
   "outputs": [
    {
     "name": "stdout",
     "output_type": "stream",
     "text": [
      "    Feature Index       VIF\n",
      "8              17  4.397542\n",
      "7              16  4.304622\n",
      "11             28  3.345454\n",
      "0               0  3.245859\n",
      "3               8  3.221528\n",
      "4              10  2.773311\n",
      "10             19  2.700932\n",
      "5              11  2.442511\n",
      "6              14  2.359029\n",
      "9              18  2.155750\n",
      "2               4  1.936057\n",
      "1               1  1.918149\n"
     ]
    }
   ],
   "source": [
    "# Iteration 18\n",
    "X_train = X_train.drop(columns=[9])\n",
    "vif_df18 = pd.DataFrame()\n",
    "vif_df18[\"Feature Index\"] = X_train.columns\n",
    "vif_df18['VIF'] = [variance_inflation_factor(X_train,i) for i in range (X_train.shape[1])] \n",
    "\n",
    "print(vif_df18.sort_values(by=\"VIF\", ascending=False))"
   ]
  },
  {
   "cell_type": "code",
   "execution_count": 69,
   "id": "d101d24c-e940-43c6-a588-4e8c5be426ee",
   "metadata": {},
   "outputs": [
    {
     "data": {
      "text/plain": [
       "Text(0.5, 1.0, 'Correlation between features')"
      ]
     },
     "execution_count": 69,
     "metadata": {},
     "output_type": "execute_result"
    },
    {
     "data": {
      "image/png": "[encoded data removed]",
      "text/plain": [
       "<Figure size 1500x1500 with 2 Axes>"
      ]
     },
     "metadata": {},
     "output_type": "display_data"
    }
   ],
   "source": [
    "#Correlation Plot after Handling Multicollinearity\n",
    "corr=X_train.corr()\n",
    "plt.figure(figsize=(15,15))\n",
    "sns.heatmap(corr,\n",
    "           cmap='YlGnBu',vmax=1.0, vmin=-1.0, linewidths=0.1,\n",
    "           annot=True,square=True);\n",
    "plt.title('Correlation between features')"
   ]
  },
  {
   "cell_type": "markdown",
   "id": "5c128ddc-9cb7-4f4c-8bc2-ce441c05c78c",
   "metadata": {},
   "source": [
    "### 6.2 Target Variable"
   ]
  },
  {
   "cell_type": "code",
   "execution_count": 71,
   "id": "e71de3c3-8b89-44a4-b9f1-0ddbc41bcdc5",
   "metadata": {},
   "outputs": [],
   "source": [
    "# Converting to Pandas DataFrame\n",
    "y_train = pd.DataFrame(y_train)"
   ]
  },
  {
   "cell_type": "code",
   "execution_count": 72,
   "id": "8f2eee25-e55c-4386-ad42-cebfcf7658b8",
   "metadata": {},
   "outputs": [
    {
     "data": {
      "text/html": [
       "<div>\n",
       "<style scoped>\n",
       "    .dataframe tbody tr th:only-of-type {\n",
       "        vertical-align: middle;\n",
       "    }\n",
       "\n",
       "    .dataframe tbody tr th {\n",
       "        vertical-align: top;\n",
       "    }\n",
       "\n",
       "    .dataframe thead th {\n",
       "        text-align: right;\n",
       "    }\n",
       "</style>\n",
       "<table border=\"1\" class=\"dataframe\">\n",
       "  <thead>\n",
       "    <tr style=\"text-align: right;\">\n",
       "      <th></th>\n",
       "      <th>target</th>\n",
       "    </tr>\n",
       "  </thead>\n",
       "  <tbody>\n",
       "    <tr>\n",
       "      <th>338</th>\n",
       "      <td>1</td>\n",
       "    </tr>\n",
       "    <tr>\n",
       "      <th>427</th>\n",
       "      <td>1</td>\n",
       "    </tr>\n",
       "    <tr>\n",
       "      <th>406</th>\n",
       "      <td>1</td>\n",
       "    </tr>\n",
       "    <tr>\n",
       "      <th>96</th>\n",
       "      <td>1</td>\n",
       "    </tr>\n",
       "    <tr>\n",
       "      <th>490</th>\n",
       "      <td>1</td>\n",
       "    </tr>\n",
       "  </tbody>\n",
       "</table>\n",
       "</div>"
      ],
      "text/plain": [
       "     target\n",
       "338       1\n",
       "427       1\n",
       "406       1\n",
       "96        1\n",
       "490       1"
      ]
     },
     "execution_count": 72,
     "metadata": {},
     "output_type": "execute_result"
    }
   ],
   "source": [
    "y_train.head()"
   ]
  },
  {
   "cell_type": "code",
   "execution_count": 73,
   "id": "8a438e0e-d123-4dc1-9de1-79638c616cfc",
   "metadata": {},
   "outputs": [
    {
     "name": "stderr",
     "output_type": "stream",
     "text": [
      "C:\\Users\\vaibh\\anaconda3\\Lib\\site-packages\\seaborn\\_oldcore.py:1119: FutureWarning: use_inf_as_na option is deprecated and will be removed in a future version. Convert inf values to NaN before operating instead.\n",
      "  with pd.option_context('mode.use_inf_as_na', True):\n"
     ]
    },
    {
     "data": {
      "text/plain": [
       "<Axes: ylabel='Count'>"
      ]
     },
     "execution_count": 73,
     "metadata": {},
     "output_type": "execute_result"
    },
    {
     "data": {
      "image/png": "[encoded data removed]",
      "text/plain": [
       "<Figure size 640x480 with 1 Axes>"
      ]
     },
     "metadata": {},
     "output_type": "display_data"
    }
   ],
   "source": [
    "# Visualizing the target variable\n",
    "sns.histplot(y_train)"
   ]
  },
  {
   "cell_type": "markdown",
   "id": "ef37f161-9dc1-46f0-9fc1-653f7646b718",
   "metadata": {},
   "source": [
    "### 6.3 Test Data Transformation"
   ]
  },
  {
   "cell_type": "markdown",
   "id": "8a239bd3-68f5-46fe-b6a7-3b1cb1e7b6ef",
   "metadata": {},
   "source": [
    "#### 6.3.1 Yeo-Johnson Power Transformation"
   ]
  },
  {
   "cell_type": "code",
   "execution_count": 76,
   "id": "6ebaf090-ee27-4567-9a35-3fefbf06696e",
   "metadata": {},
   "outputs": [],
   "source": [
    "X_test = pt1.transform(X_test)"
   ]
  },
  {
   "cell_type": "code",
   "execution_count": 77,
   "id": "86ef5afd-de6b-4c0c-a7bb-c6981edb3472",
   "metadata": {},
   "outputs": [
    {
     "data": {
      "text/html": [
       "<div>\n",
       "<style scoped>\n",
       "    .dataframe tbody tr th:only-of-type {\n",
       "        vertical-align: middle;\n",
       "    }\n",
       "\n",
       "    .dataframe tbody tr th {\n",
       "        vertical-align: top;\n",
       "    }\n",
       "\n",
       "    .dataframe thead th {\n",
       "        text-align: right;\n",
       "    }\n",
       "</style>\n",
       "<table border=\"1\" class=\"dataframe\">\n",
       "  <thead>\n",
       "    <tr style=\"text-align: right;\">\n",
       "      <th></th>\n",
       "      <th>0</th>\n",
       "      <th>1</th>\n",
       "      <th>2</th>\n",
       "      <th>3</th>\n",
       "      <th>4</th>\n",
       "      <th>5</th>\n",
       "      <th>6</th>\n",
       "      <th>7</th>\n",
       "      <th>8</th>\n",
       "      <th>9</th>\n",
       "      <th>...</th>\n",
       "      <th>20</th>\n",
       "      <th>21</th>\n",
       "      <th>22</th>\n",
       "      <th>23</th>\n",
       "      <th>24</th>\n",
       "      <th>25</th>\n",
       "      <th>26</th>\n",
       "      <th>27</th>\n",
       "      <th>28</th>\n",
       "      <th>29</th>\n",
       "    </tr>\n",
       "  </thead>\n",
       "  <tbody>\n",
       "    <tr>\n",
       "      <th>0</th>\n",
       "      <td>-0.025821</td>\n",
       "      <td>0.422202</td>\n",
       "      <td>0.062197</td>\n",
       "      <td>-0.014148</td>\n",
       "      <td>1.034996</td>\n",
       "      <td>1.016451</td>\n",
       "      <td>1.016507</td>\n",
       "      <td>1.071573</td>\n",
       "      <td>1.137239</td>\n",
       "      <td>1.498492</td>\n",
       "      <td>...</td>\n",
       "      <td>0.299851</td>\n",
       "      <td>0.738585</td>\n",
       "      <td>0.460434</td>\n",
       "      <td>0.341624</td>\n",
       "      <td>1.107084</td>\n",
       "      <td>1.061356</td>\n",
       "      <td>1.246242</td>\n",
       "      <td>1.332346</td>\n",
       "      <td>1.169368</td>\n",
       "      <td>1.528220</td>\n",
       "    </tr>\n",
       "    <tr>\n",
       "      <th>1</th>\n",
       "      <td>-0.088772</td>\n",
       "      <td>1.396012</td>\n",
       "      <td>-0.157554</td>\n",
       "      <td>-0.088329</td>\n",
       "      <td>-0.591517</td>\n",
       "      <td>-1.210578</td>\n",
       "      <td>-0.877173</td>\n",
       "      <td>-0.762389</td>\n",
       "      <td>-0.671423</td>\n",
       "      <td>-1.158712</td>\n",
       "      <td>...</td>\n",
       "      <td>-0.214077</td>\n",
       "      <td>1.360924</td>\n",
       "      <td>-0.317062</td>\n",
       "      <td>-0.202016</td>\n",
       "      <td>-0.094464</td>\n",
       "      <td>-1.177990</td>\n",
       "      <td>-0.592427</td>\n",
       "      <td>-0.830112</td>\n",
       "      <td>-0.752436</td>\n",
       "      <td>-1.050285</td>\n",
       "    </tr>\n",
       "    <tr>\n",
       "      <th>2</th>\n",
       "      <td>0.169841</td>\n",
       "      <td>-0.829146</td>\n",
       "      <td>0.105894</td>\n",
       "      <td>0.167613</td>\n",
       "      <td>-1.251153</td>\n",
       "      <td>-1.082134</td>\n",
       "      <td>-1.059093</td>\n",
       "      <td>-0.504658</td>\n",
       "      <td>-0.803314</td>\n",
       "      <td>-1.154047</td>\n",
       "      <td>...</td>\n",
       "      <td>-0.061388</td>\n",
       "      <td>-1.052442</td>\n",
       "      <td>-0.103334</td>\n",
       "      <td>-0.035372</td>\n",
       "      <td>-1.356381</td>\n",
       "      <td>-1.237060</td>\n",
       "      <td>-1.218288</td>\n",
       "      <td>-0.411912</td>\n",
       "      <td>-1.505447</td>\n",
       "      <td>-1.129060</td>\n",
       "    </tr>\n",
       "    <tr>\n",
       "      <th>3</th>\n",
       "      <td>0.241827</td>\n",
       "      <td>-0.143551</td>\n",
       "      <td>0.179151</td>\n",
       "      <td>0.256959</td>\n",
       "      <td>-2.455360</td>\n",
       "      <td>-1.205369</td>\n",
       "      <td>-0.954680</td>\n",
       "      <td>-1.100655</td>\n",
       "      <td>-0.602282</td>\n",
       "      <td>-1.154047</td>\n",
       "      <td>...</td>\n",
       "      <td>0.257526</td>\n",
       "      <td>0.055580</td>\n",
       "      <td>0.228066</td>\n",
       "      <td>0.288590</td>\n",
       "      <td>-1.847550</td>\n",
       "      <td>-0.027937</td>\n",
       "      <td>-0.465770</td>\n",
       "      <td>-0.537476</td>\n",
       "      <td>-0.343254</td>\n",
       "      <td>-0.259261</td>\n",
       "    </tr>\n",
       "    <tr>\n",
       "      <th>4</th>\n",
       "      <td>-0.149786</td>\n",
       "      <td>-0.080196</td>\n",
       "      <td>-0.233900</td>\n",
       "      <td>-0.146204</td>\n",
       "      <td>-0.443515</td>\n",
       "      <td>-1.745134</td>\n",
       "      <td>-0.931762</td>\n",
       "      <td>-0.392731</td>\n",
       "      <td>-1.371406</td>\n",
       "      <td>-0.553420</td>\n",
       "      <td>...</td>\n",
       "      <td>-0.532114</td>\n",
       "      <td>-0.370406</td>\n",
       "      <td>-0.630902</td>\n",
       "      <td>-0.507005</td>\n",
       "      <td>-1.704305</td>\n",
       "      <td>-2.041453</td>\n",
       "      <td>-1.350132</td>\n",
       "      <td>-1.031042</td>\n",
       "      <td>-1.918696</td>\n",
       "      <td>-1.722793</td>\n",
       "    </tr>\n",
       "  </tbody>\n",
       "</table>\n",
       "<p>5 rows × 30 columns</p>\n",
       "</div>"
      ],
      "text/plain": [
       "         0         1         2         3         4         5         6   \\\n",
       "0 -0.025821  0.422202  0.062197 -0.014148  1.034996  1.016451  1.016507   \n",
       "1 -0.088772  1.396012 -0.157554 -0.088329 -0.591517 -1.210578 -0.877173   \n",
       "2  0.169841 -0.829146  0.105894  0.167613 -1.251153 -1.082134 -1.059093   \n",
       "3  0.241827 -0.143551  0.179151  0.256959 -2.455360 -1.205369 -0.954680   \n",
       "4 -0.149786 -0.080196 -0.233900 -0.146204 -0.443515 -1.745134 -0.931762   \n",
       "\n",
       "         7         8         9   ...        20        21        22        23  \\\n",
       "0  1.071573  1.137239  1.498492  ...  0.299851  0.738585  0.460434  0.341624   \n",
       "1 -0.762389 -0.671423 -1.158712  ... -0.214077  1.360924 -0.317062 -0.202016   \n",
       "2 -0.504658 -0.803314 -1.154047  ... -0.061388 -1.052442 -0.103334 -0.035372   \n",
       "3 -1.100655 -0.602282 -1.154047  ...  0.257526  0.055580  0.228066  0.288590   \n",
       "4 -0.392731 -1.371406 -0.553420  ... -0.532114 -0.370406 -0.630902 -0.507005   \n",
       "\n",
       "         24        25        26        27        28        29  \n",
       "0  1.107084  1.061356  1.246242  1.332346  1.169368  1.528220  \n",
       "1 -0.094464 -1.177990 -0.592427 -0.830112 -0.752436 -1.050285  \n",
       "2 -1.356381 -1.237060 -1.218288 -0.411912 -1.505447 -1.129060  \n",
       "3 -1.847550 -0.027937 -0.465770 -0.537476 -0.343254 -0.259261  \n",
       "4 -1.704305 -2.041453 -1.350132 -1.031042 -1.918696 -1.722793  \n",
       "\n",
       "[5 rows x 30 columns]"
      ]
     },
     "execution_count": 77,
     "metadata": {},
     "output_type": "execute_result"
    }
   ],
   "source": [
    "# Converting to Pandas DataFrame\n",
    "X_test = pd.DataFrame(X_test)\n",
    "X_test.head()"
   ]
  },
  {
   "cell_type": "markdown",
   "id": "d3c8b9fe-50a6-46e6-b113-47e7248589d6",
   "metadata": {},
   "source": [
    "#### 6.3.2 Handling Outliers "
   ]
  },
  {
   "cell_type": "markdown",
   "id": "f818090c-fd25-4807-8237-b6fc15765118",
   "metadata": {},
   "source": [
    "<b>Replacing Outliers with Upper/Lower Bound Using IQR:</b>\n",
    "\n",
    "Replacing outliers with upper/lower bounds using IQR involves calculating the interquartile range (IQR) of a numerical column. Outliers are values above Q3 + 1.5 * IQR or below Q1 - 1.5 * IQR. These outliers are then replaced with the nearest boundary (either Q3 + 1.5 * IQR or Q1 - 1.5 * IQR)."
   ]
  },
  {
   "cell_type": "code",
   "execution_count": 80,
   "id": "78c23127-1028-47c4-a9f1-b462f8881c60",
   "metadata": {},
   "outputs": [],
   "source": [
    "for column in X_test.columns:\n",
    "    Q1 = X_test[column].quantile(0.25)\n",
    "    Q3 = X_test[column].quantile(0.75)\n",
    "    IQR = Q3 - Q1\n",
    "    UL = Q3 + 1.5 * IQR\n",
    "    LL = Q1 - 1.5 * IQR\n",
    "    X_test[column] = np.where(X_test[column] > UL, UL, X_test[column])\n",
    "    X_test[column] = np.where(X_test[column] < LL, LL, X_test[column])"
   ]
  },
  {
   "cell_type": "markdown",
   "id": "890b8692-180b-4b63-935e-c452f5b95ff7",
   "metadata": {},
   "source": [
    "#### 6.3.3 Handling Skewness\n",
    "- If skewness is less than -1 or greater than +1, the distribution is highly skewed.\n",
    "- If skewness is between -1 and -1/2 or between +1/2 and +1, the distribution is moderately skewed.\n",
    "- If skewness is between -1/2 and +1/2, the distribution is approximately skewed."
   ]
  },
  {
   "cell_type": "code",
   "execution_count": 82,
   "id": "e52da4fd-a7a8-4acd-be83-c44ca61b8775",
   "metadata": {},
   "outputs": [
    {
     "name": "stdout",
     "output_type": "stream",
     "text": [
      "Skewness of Features:\n",
      " 0    -0.417992\n",
      "1    -0.045012\n",
      "2    -0.384362\n",
      "3    -0.424301\n",
      "4     0.156155\n",
      "5     0.145294\n",
      "6     0.148800\n",
      "7     0.052301\n",
      "8    -0.020451\n",
      "9     0.039067\n",
      "10   -0.192491\n",
      "11    0.337145\n",
      "12   -0.229363\n",
      "13   -0.406465\n",
      "14    0.160062\n",
      "15    0.074821\n",
      "16   -0.011387\n",
      "17   -0.197486\n",
      "18   -0.061136\n",
      "19    0.052304\n",
      "20   -0.414590\n",
      "21   -0.187946\n",
      "22   -0.378588\n",
      "23   -0.441036\n",
      "24   -0.064089\n",
      "25    0.124065\n",
      "26    0.166086\n",
      "27   -0.135889\n",
      "28   -0.071270\n",
      "29    0.034107\n",
      "dtype: float64\n"
     ]
    }
   ],
   "source": [
    "from scipy.stats import skew\n",
    "# Calculate skewness\n",
    "skewness = X_test.apply(skew)\n",
    "print(\"Skewness of Features:\\n\", skewness)"
   ]
  },
  {
   "cell_type": "code",
   "execution_count": 83,
   "id": "1b1a4735-5906-4e22-932b-1a4e1b7c4545",
   "metadata": {},
   "outputs": [
    {
     "name": "stdout",
     "output_type": "stream",
     "text": [
      "Moderately skewed features:\n",
      " Index([], dtype='int64')\n"
     ]
    }
   ],
   "source": [
    "# Identify moderately skewed columns\n",
    "moderately_skewed_columns = skewness[(skewness >= 0.5) | (skewness <= -0.5)].index\n",
    "print(\"Moderately skewed features:\\n\", moderately_skewed_columns)"
   ]
  },
  {
   "cell_type": "markdown",
   "id": "183b3321-659d-4093-b743-9ddecacfaeaf",
   "metadata": {},
   "source": [
    "#### 6.3.4 Handling Multicollinearity"
   ]
  },
  {
   "cell_type": "code",
   "execution_count": 85,
   "id": "188ba921-1497-40bb-911d-24e0cf288f32",
   "metadata": {},
   "outputs": [],
   "source": [
    "X_test = X_test.drop(columns=[2,3,5,6,7,9,12,13,15,20,21,22,23,24,25,26,27,29])"
   ]
  },
  {
   "cell_type": "markdown",
   "id": "7e2cdf54-23c0-4010-b63e-fb37e3b914a5",
   "metadata": {},
   "source": [
    "## 7. Logistic Regression Modelling"
   ]
  },
  {
   "cell_type": "markdown",
   "id": "3ec2abd1-c3bc-49d2-a7ce-9c0459344b11",
   "metadata": {},
   "source": [
    "### 7.1 Building a Logistic Regression Model"
   ]
  },
  {
   "cell_type": "code",
   "execution_count": 88,
   "id": "2fd61d8c-5bfa-473e-9163-95cdbf21684f",
   "metadata": {},
   "outputs": [],
   "source": [
    "from sklearn.linear_model import LogisticRegression\n",
    "model = LogisticRegression()"
   ]
  },
  {
   "cell_type": "code",
   "execution_count": 89,
   "id": "cd561b4f-d3d5-4742-b560-445d462875cb",
   "metadata": {},
   "outputs": [
    {
     "data": {
      "text/plain": [
       "array([1, 1, 1, 1, 1, 1, 1, 1, 0, 1, 0, 1, 1, 1, 1, 1, 0, 1, 1, 1, 1, 1,\n",
       "       1, 0, 0, 1, 1, 1, 0, 1, 1, 0, 1, 0, 1, 1, 1, 1, 1, 1, 1, 0, 1, 0,\n",
       "       1, 0, 0, 1, 1, 0, 1, 0, 0, 0, 1, 1, 1, 1, 1, 1, 0, 1, 1, 1, 1, 0,\n",
       "       0, 1, 1, 0, 1, 1, 1, 1, 0, 1, 1, 0, 0, 1, 1, 0, 0, 1, 1, 0, 1, 1,\n",
       "       0, 0, 0, 1, 1, 1, 0, 1, 1, 1, 1, 1, 0, 1, 0, 1, 0, 1, 0, 1, 0, 1,\n",
       "       1, 1, 1, 0, 1, 0, 1, 1, 1, 0, 1, 1, 1, 0, 1, 1, 0, 0, 1, 0, 1, 0,\n",
       "       1, 0, 0, 0, 0, 1, 0, 1, 0, 1, 0, 1, 0, 1, 1, 0, 1, 1, 1, 1, 1, 1,\n",
       "       1, 1, 1, 1, 1, 1, 1, 0, 1, 1, 1, 0, 1, 1, 1, 1, 1, 1, 0, 1, 0, 1,\n",
       "       1, 0, 1, 0, 0, 1, 0, 0, 1, 1, 0, 1, 1, 1, 0, 1, 1, 1, 1, 1, 0, 0,\n",
       "       1, 1, 1, 1, 0, 0, 1, 1, 1, 1, 0, 1, 1, 0, 1, 1, 0, 1, 0, 1, 1, 1,\n",
       "       1, 0, 0, 0, 0, 1, 0, 1, 0, 0, 1, 1, 1, 1, 1, 0, 1, 1, 0, 1, 1, 0,\n",
       "       0, 1, 1, 1, 0, 0, 1, 1, 0, 1, 1, 1, 0, 1, 0, 1, 0, 0, 0, 0, 1, 1,\n",
       "       1, 1, 0, 0, 1, 1, 1, 1, 1, 0, 1, 1, 0, 1, 1, 0, 0, 0, 0, 1, 1, 0,\n",
       "       1, 1, 1, 0, 0, 1, 1, 1, 1, 1, 0, 0, 0, 1, 0, 0, 1, 1, 1, 1, 1, 1,\n",
       "       0, 1, 1, 1, 1, 1, 1, 0, 0, 1, 0, 1, 0, 0, 1, 1, 1, 1, 1, 0, 0, 0,\n",
       "       1, 1, 0, 0, 1, 1, 0, 1, 0, 0, 1, 0, 1, 1, 1, 1, 1, 1, 1, 0, 0, 1,\n",
       "       1, 1, 0, 1, 1, 1, 1, 0, 1, 0, 0, 0, 1, 0, 1, 0, 1, 0, 0, 1, 1, 1,\n",
       "       1, 1, 1, 1, 1, 0, 0, 0, 0, 0, 1, 1, 1, 1, 1, 1, 1, 0, 1, 0, 1, 1,\n",
       "       1, 1, 1, 0, 0, 0, 1, 0, 1, 1, 0, 0, 0, 0, 1, 0, 0, 0, 1, 0, 1, 0,\n",
       "       1, 1, 0, 0, 1, 0, 1, 1, 1, 1, 0, 1, 1, 0, 1, 1, 1, 0, 0, 1, 1, 1,\n",
       "       0, 1, 1, 0, 1, 1, 1, 1, 1, 0, 0, 0, 1, 1, 1])"
      ]
     },
     "execution_count": 89,
     "metadata": {},
     "output_type": "execute_result"
    }
   ],
   "source": [
    "np.ravel(y_train)"
   ]
  },
  {
   "cell_type": "code",
   "execution_count": 90,
   "id": "c58cfc4b-baa6-4cf0-b294-027a112e3fa3",
   "metadata": {},
   "outputs": [
    {
     "data": {
      "text/html": [
       "<style>#sk-container-id-1 {color: black;background-color: white;}#sk-container-id-1 pre{padding: 0;}#sk-container-id-1 div.sk-toggleable {background-color: white;}#sk-container-id-1 label.sk-toggleable__label {cursor: pointer;display: block;width: 100%;margin-bottom: 0;padding: 0.3em;box-sizing: border-box;text-align: center;}#sk-container-id-1 label.sk-toggleable__label-arrow:before {content: \"▸\";float: left;margin-right: 0.25em;color: #696969;}#sk-container-id-1 label.sk-toggleable__label-arrow:hover:before {color: black;}#sk-container-id-1 div.sk-estimator:hover label.sk-toggleable__label-arrow:before {color: black;}#sk-container-id-1 div.sk-toggleable__content {max-height: 0;max-width: 0;overflow: hidden;text-align: left;background-color: #f0f8ff;}#sk-container-id-1 div.sk-toggleable__content pre {margin: 0.2em;color: black;border-radius: 0.25em;background-color: #f0f8ff;}#sk-container-id-1 input.sk-toggleable__control:checked~div.sk-toggleable__content {max-height: 200px;max-width: 100%;overflow: auto;}#sk-container-id-1 input.sk-toggleable__control:checked~label.sk-toggleable__label-arrow:before {content: \"▾\";}#sk-container-id-1 div.sk-estimator input.sk-toggleable__control:checked~label.sk-toggleable__label {background-color: #d4ebff;}#sk-container-id-1 div.sk-label input.sk-toggleable__control:checked~label.sk-toggleable__label {background-color: #d4ebff;}#sk-container-id-1 input.sk-hidden--visually {border: 0;clip: rect(1px 1px 1px 1px);clip: rect(1px, 1px, 1px, 1px);height: 1px;margin: -1px;overflow: hidden;padding: 0;position: absolute;width: 1px;}#sk-container-id-1 div.sk-estimator {font-family: monospace;background-color: #f0f8ff;border: 1px dotted black;border-radius: 0.25em;box-sizing: border-box;margin-bottom: 0.5em;}#sk-container-id-1 div.sk-estimator:hover {background-color: #d4ebff;}#sk-container-id-1 div.sk-parallel-item::after {content: \"\";width: 100%;border-bottom: 1px solid gray;flex-grow: 1;}#sk-container-id-1 div.sk-label:hover label.sk-toggleable__label {background-color: #d4ebff;}#sk-container-id-1 div.sk-serial::before {content: \"\";position: absolute;border-left: 1px solid gray;box-sizing: border-box;top: 0;bottom: 0;left: 50%;z-index: 0;}#sk-container-id-1 div.sk-serial {display: flex;flex-direction: column;align-items: center;background-color: white;padding-right: 0.2em;padding-left: 0.2em;position: relative;}#sk-container-id-1 div.sk-item {position: relative;z-index: 1;}#sk-container-id-1 div.sk-parallel {display: flex;align-items: stretch;justify-content: center;background-color: white;position: relative;}#sk-container-id-1 div.sk-item::before, #sk-container-id-1 div.sk-parallel-item::before {content: \"\";position: absolute;border-left: 1px solid gray;box-sizing: border-box;top: 0;bottom: 0;left: 50%;z-index: -1;}#sk-container-id-1 div.sk-parallel-item {display: flex;flex-direction: column;z-index: 1;position: relative;background-color: white;}#sk-container-id-1 div.sk-parallel-item:first-child::after {align-self: flex-end;width: 50%;}#sk-container-id-1 div.sk-parallel-item:last-child::after {align-self: flex-start;width: 50%;}#sk-container-id-1 div.sk-parallel-item:only-child::after {width: 0;}#sk-container-id-1 div.sk-dashed-wrapped {border: 1px dashed gray;margin: 0 0.4em 0.5em 0.4em;box-sizing: border-box;padding-bottom: 0.4em;background-color: white;}#sk-container-id-1 div.sk-label label {font-family: monospace;font-weight: bold;display: inline-block;line-height: 1.2em;}#sk-container-id-1 div.sk-label-container {text-align: center;}#sk-container-id-1 div.sk-container {/* jupyter's `normalize.less` sets `[hidden] { display: none; }` but bootstrap.min.css set `[hidden] { display: none !important; }` so we also need the `!important` here to be able to override the default hidden behavior on the sphinx rendered scikit-learn.org. See: https://github.com/scikit-learn/scikit-learn/issues/21755 */display: inline-block !important;position: relative;}#sk-container-id-1 div.sk-text-repr-fallback {display: none;}</style><div id=\"sk-container-id-1\" class=\"sk-top-container\"><div class=\"sk-text-repr-fallback\"><pre>LogisticRegression()</pre><b>In a Jupyter environment, please rerun this cell to show the HTML representation or trust the notebook. <br />On GitHub, the HTML representation is unable to render, please try loading this page with nbviewer.org.</b></div><div class=\"sk-container\" hidden><div class=\"sk-item\"><div class=\"sk-estimator sk-toggleable\"><input class=\"sk-toggleable__control sk-hidden--visually\" id=\"sk-estimator-id-1\" type=\"checkbox\" checked><label for=\"sk-estimator-id-1\" class=\"sk-toggleable__label sk-toggleable__label-arrow\">LogisticRegression</label><div class=\"sk-toggleable__content\"><pre>LogisticRegression()</pre></div></div></div></div></div>"
      ],
      "text/plain": [
       "LogisticRegression()"
      ]
     },
     "execution_count": 90,
     "metadata": {},
     "output_type": "execute_result"
    }
   ],
   "source": [
    "# Fit the model to the training data\n",
    "model.fit(X_train,np.ravel(y_train))"
   ]
  },
  {
   "cell_type": "code",
   "execution_count": 91,
   "id": "478fbf85-973c-4336-aa43-851929ab62bd",
   "metadata": {},
   "outputs": [
    {
     "data": {
      "text/plain": [
       "array([0, 1, 1, 1, 1, 1, 1, 1, 1, 1, 1, 1, 1, 0, 0, 0, 1, 0, 0, 0, 0, 0,\n",
       "       1, 1, 0, 1, 1, 0, 1, 0, 1, 0, 1, 0, 1, 0, 1, 0, 1, 0, 0, 1, 0, 1,\n",
       "       1, 0, 1, 1, 1, 0, 0, 0, 0, 1, 1, 1, 1, 1, 1, 0, 0, 0, 1, 1, 0, 1,\n",
       "       0, 0, 0, 1, 0, 0, 1, 0, 0, 1, 1, 1, 1, 1, 0, 0, 0, 1, 0, 1, 1, 1,\n",
       "       0, 0, 1, 1, 0, 0, 1, 1, 0, 1, 1, 1, 1, 1, 1, 1, 0, 1, 0, 1, 1, 0,\n",
       "       1, 0, 0, 1])"
      ]
     },
     "execution_count": 91,
     "metadata": {},
     "output_type": "execute_result"
    }
   ],
   "source": [
    "#Predictions \n",
    "y_pred = model.predict(X_test)\n",
    "y_pred"
   ]
  },
  {
   "cell_type": "markdown",
   "id": "c298fde9-dbbf-4b15-8df0-f13d567fe09b",
   "metadata": {},
   "source": [
    "`y_pred_prob` typically refers to the predicted probabilities outputted by a model in a classification task, especially in the context of logistic regression or other probabilistic classifiers in Python's `sklearn` library. Each row corresponds to a sample, and each column represents the predicted probability for a class (typically, the first column for class 0 and the second for class 1)."
   ]
  },
  {
   "cell_type": "code",
   "execution_count": 93,
   "id": "35cb70c1-25a9-4ce2-9ce2-60d0d34cb5e3",
   "metadata": {},
   "outputs": [
    {
     "data": {
      "text/plain": [
       "array([[9.80026386e-01, 1.99736136e-02],\n",
       "       [5.32956690e-02, 9.46704331e-01],\n",
       "       [1.36837334e-03, 9.98631627e-01],\n",
       "       [1.65638229e-02, 9.83436177e-01],\n",
       "       [2.10963190e-05, 9.99978904e-01],\n",
       "       [1.37041701e-02, 9.86295830e-01],\n",
       "       [1.17934475e-05, 9.99988207e-01],\n",
       "       [1.17514416e-03, 9.98824856e-01],\n",
       "       [3.72837761e-06, 9.99996272e-01],\n",
       "       [8.48549063e-06, 9.99991515e-01],\n",
       "       [2.05718571e-01, 7.94281429e-01],\n",
       "       [1.20853062e-01, 8.79146938e-01],\n",
       "       [2.78158804e-06, 9.99997218e-01],\n",
       "       [8.14465127e-01, 1.85534873e-01],\n",
       "       [8.20423904e-01, 1.79576096e-01],\n",
       "       [8.83558837e-01, 1.16441163e-01],\n",
       "       [1.36174205e-02, 9.86382580e-01],\n",
       "       [9.99352720e-01, 6.47279703e-04],\n",
       "       [9.93162744e-01, 6.83725626e-03],\n",
       "       [9.99944714e-01, 5.52858472e-05],\n",
       "       [9.49517233e-01, 5.04827672e-02],\n",
       "       [9.16547587e-01, 8.34524133e-02],\n",
       "       [8.89540407e-03, 9.91104596e-01],\n",
       "       [1.96491497e-03, 9.98035085e-01],\n",
       "       [8.82221427e-01, 1.17778573e-01],\n",
       "       [4.24943772e-04, 9.99575056e-01],\n",
       "       [1.53822245e-05, 9.99984618e-01],\n",
       "       [8.73163064e-01, 1.26836936e-01],\n",
       "       [2.97575128e-03, 9.97024249e-01],\n",
       "       [9.98875795e-01, 1.12420546e-03],\n",
       "       [8.58180853e-05, 9.99914182e-01],\n",
       "       [9.80592938e-01, 1.94070620e-02],\n",
       "       [2.48607697e-01, 7.51392303e-01],\n",
       "       [9.95719671e-01, 4.28032932e-03],\n",
       "       [5.44779844e-07, 9.99999455e-01],\n",
       "       [9.83670744e-01, 1.63292555e-02],\n",
       "       [1.78677663e-02, 9.82132234e-01],\n",
       "       [9.81341935e-01, 1.86580651e-02],\n",
       "       [4.90101009e-02, 9.50989899e-01],\n",
       "       [9.84285380e-01, 1.57146205e-02],\n",
       "       [8.97151541e-01, 1.02848459e-01],\n",
       "       [3.15289223e-05, 9.99968471e-01],\n",
       "       [8.14759262e-01, 1.85240738e-01],\n",
       "       [1.44154176e-04, 9.99855846e-01],\n",
       "       [3.49819209e-01, 6.50180791e-01],\n",
       "       [9.99930009e-01, 6.99905520e-05],\n",
       "       [3.10549494e-08, 9.99999969e-01],\n",
       "       [2.16700750e-02, 9.78329925e-01],\n",
       "       [3.80571020e-04, 9.99619429e-01],\n",
       "       [9.99445698e-01, 5.54302090e-04],\n",
       "       [9.99388762e-01, 6.11237832e-04],\n",
       "       [7.85182316e-01, 2.14817684e-01],\n",
       "       [9.98923186e-01, 1.07681410e-03],\n",
       "       [1.16288801e-03, 9.98837112e-01],\n",
       "       [1.65900761e-02, 9.83409924e-01],\n",
       "       [1.16115690e-04, 9.99883884e-01],\n",
       "       [7.93969229e-04, 9.99206031e-01],\n",
       "       [3.65300086e-04, 9.99634700e-01],\n",
       "       [3.54552793e-03, 9.96454472e-01],\n",
       "       [9.99736869e-01, 2.63130727e-04],\n",
       "       [9.77422148e-01, 2.25778517e-02],\n",
       "       [9.90192311e-01, 9.80768859e-03],\n",
       "       [1.37733772e-04, 9.99862266e-01],\n",
       "       [1.46280701e-02, 9.85371930e-01],\n",
       "       [9.94402479e-01, 5.59752127e-03],\n",
       "       [1.35719581e-01, 8.64280419e-01],\n",
       "       [9.99997280e-01, 2.72049385e-06],\n",
       "       [9.99962651e-01, 3.73494076e-05],\n",
       "       [9.98576545e-01, 1.42345514e-03],\n",
       "       [3.08389129e-04, 9.99691611e-01],\n",
       "       [5.49208282e-01, 4.50791718e-01],\n",
       "       [9.99434541e-01, 5.65458672e-04],\n",
       "       [2.66971088e-03, 9.97330289e-01],\n",
       "       [6.40133784e-01, 3.59866216e-01],\n",
       "       [9.99461148e-01, 5.38852306e-04],\n",
       "       [4.13553386e-02, 9.58644661e-01],\n",
       "       [3.54611827e-06, 9.99996454e-01],\n",
       "       [1.81740126e-01, 8.18259874e-01],\n",
       "       [2.58805281e-04, 9.99741195e-01],\n",
       "       [7.41480606e-06, 9.99992585e-01],\n",
       "       [9.83407602e-01, 1.65923982e-02],\n",
       "       [9.99993108e-01, 6.89224746e-06],\n",
       "       [9.99665328e-01, 3.34671978e-04],\n",
       "       [3.59821399e-06, 9.99996402e-01],\n",
       "       [8.52610827e-01, 1.47389173e-01],\n",
       "       [1.38029123e-03, 9.98619709e-01],\n",
       "       [2.52709813e-05, 9.99974729e-01],\n",
       "       [7.55312961e-07, 9.99999245e-01],\n",
       "       [9.99306527e-01, 6.93473305e-04],\n",
       "       [9.99997891e-01, 2.10867130e-06],\n",
       "       [2.11378353e-05, 9.99978862e-01],\n",
       "       [4.83601088e-01, 5.16398912e-01],\n",
       "       [6.94534833e-01, 3.05465167e-01],\n",
       "       [9.98891219e-01, 1.10878062e-03],\n",
       "       [6.47111405e-04, 9.99352889e-01],\n",
       "       [7.20369217e-04, 9.99279631e-01],\n",
       "       [9.98833572e-01, 1.16642761e-03],\n",
       "       [2.14356818e-02, 9.78564318e-01],\n",
       "       [2.76429470e-02, 9.72357053e-01],\n",
       "       [8.44728153e-04, 9.99155272e-01],\n",
       "       [5.51790971e-05, 9.99944821e-01],\n",
       "       [4.56812276e-03, 9.95431877e-01],\n",
       "       [4.84858696e-03, 9.95151413e-01],\n",
       "       [1.77352750e-01, 8.22647250e-01],\n",
       "       [9.95793978e-01, 4.20602192e-03],\n",
       "       [4.00071543e-03, 9.95999285e-01],\n",
       "       [9.99427469e-01, 5.72531431e-04],\n",
       "       [3.17187450e-01, 6.82812550e-01],\n",
       "       [3.69581710e-01, 6.30418290e-01],\n",
       "       [9.02637650e-01, 9.73623496e-02],\n",
       "       [2.48017946e-01, 7.51982054e-01],\n",
       "       [9.95774812e-01, 4.22518779e-03],\n",
       "       [9.98675182e-01, 1.32481808e-03],\n",
       "       [3.68075761e-01, 6.31924239e-01]])"
      ]
     },
     "execution_count": 93,
     "metadata": {},
     "output_type": "execute_result"
    }
   ],
   "source": [
    "y_pred_prob = model.predict_proba(X_test)\n",
    "y_pred_prob"
   ]
  },
  {
   "cell_type": "markdown",
   "id": "936c664e-3f3b-4a77-ac90-ec5fae9ac614",
   "metadata": {},
   "source": [
    "### 7.2 Model Evaluation"
   ]
  },
  {
   "cell_type": "code",
   "execution_count": 95,
   "id": "a01f641e-c5c6-434b-b19a-245dfa3efe6a",
   "metadata": {},
   "outputs": [],
   "source": [
    "from sklearn.metrics import accuracy_score, precision_score, recall_score, confusion_matrix, ConfusionMatrixDisplay, roc_curve, roc_auc_score, auc, RocCurveDisplay, classification_report"
   ]
  },
  {
   "cell_type": "markdown",
   "id": "53605ab9-3eae-4a93-b5f4-574db9c06970",
   "metadata": {},
   "source": [
    "#### 7.2.1 Accuracy\n",
    "- **Definition**: The ratio of correctly predicted instances (both true positives and true negatives) to the total number of instances.\n",
    "- **Formula**: `(TP + TN) / (TP + TN + FP + FN)`\n",
    "- **Use Case**: Best when the classes are balanced."
   ]
  },
  {
   "cell_type": "code",
   "execution_count": 97,
   "id": "a1fc6a42-8d48-430d-b69d-40299b245346",
   "metadata": {},
   "outputs": [
    {
     "data": {
      "text/plain": [
       "0.9473684210526315"
      ]
     },
     "execution_count": 97,
     "metadata": {},
     "output_type": "execute_result"
    }
   ],
   "source": [
    "accuracy = accuracy_score(y_test,y_pred)\n",
    "accuracy"
   ]
  },
  {
   "cell_type": "markdown",
   "id": "7e031e9d-6baa-41f3-a6ac-1bb43ed8c021",
   "metadata": {},
   "source": [
    "#### 7.2.2 Precison\n",
    "- **Definition**: The ratio of correctly predicted positive instances to the total predicted positives.\n",
    "- **Formula**: `TP / (TP + FP)`\n",
    "- **Use Case**: Important when false positives are costly."
   ]
  },
  {
   "cell_type": "code",
   "execution_count": 99,
   "id": "0475e913-a380-4427-b7c0-89dd3a9efdc6",
   "metadata": {},
   "outputs": [
    {
     "data": {
      "text/plain": [
       "0.9692307692307692"
      ]
     },
     "execution_count": 99,
     "metadata": {},
     "output_type": "execute_result"
    }
   ],
   "source": [
    "precision = precision_score(y_test,y_pred)\n",
    "precision"
   ]
  },
  {
   "cell_type": "markdown",
   "id": "d9de23ae-f2a6-4999-b29a-07ff4f891e8f",
   "metadata": {},
   "source": [
    "#### 7.2.3 Recall\n",
    "- **Definition**: The ratio of correctly predicted positive instances to the actual positives.\n",
    "- **Formula**: `TP / (TP + FN)`\n",
    "- **Use Case**: Crucial when missing a positive case is more costly (e.g., medical diagnoses)."
   ]
  },
  {
   "cell_type": "code",
   "execution_count": 101,
   "id": "b9f72a97-8cfa-4dcc-ac1a-60980f20fe2c",
   "metadata": {},
   "outputs": [
    {
     "data": {
      "text/plain": [
       "0.9402985074626866"
      ]
     },
     "execution_count": 101,
     "metadata": {},
     "output_type": "execute_result"
    }
   ],
   "source": [
    "recall = recall_score(y_test,y_pred)\n",
    "recall"
   ]
  },
  {
   "cell_type": "markdown",
   "id": "f380aec0-bebf-4664-a010-531cba250f59",
   "metadata": {},
   "source": [
    "#### 7.2.4 Specificity\n",
    "- **Definition**: The ratio of correctly predicted negative instances to the actual negatives.\n",
    "- **Formula**: `TN / (TN + FP)`\n",
    "- **Use Case**: Used alongside recall to understand classifier performance on negative cases."
   ]
  },
  {
   "cell_type": "code",
   "execution_count": 103,
   "id": "bf807ede-d7d3-44bb-b0d5-743ee94eb2be",
   "metadata": {},
   "outputs": [
    {
     "data": {
      "text/plain": [
       "0.9574468085106383"
      ]
     },
     "execution_count": 103,
     "metadata": {},
     "output_type": "execute_result"
    }
   ],
   "source": [
    "tn,fp,fn,tp = confusion_matrix(y_test,y_pred).ravel()\n",
    "specificity = tn/(fp+tn)\n",
    "specificity"
   ]
  },
  {
   "cell_type": "markdown",
   "id": "46876d65-1435-4850-a1e3-e6901ddd2dce",
   "metadata": {},
   "source": [
    "#### 7.2.5 Area Under ROC Curve\n",
    "- **Definition**: The area under the Receiver Operating Characteristic (ROC) curve, which plots True Positive Rate (Recall) vs. False Positive Rate.\n",
    "- **Interpretation**:\n",
    "  - AUC close to 1 indicates a good model.\n",
    "  - AUC close to 0.5 indicates a poor model."
   ]
  },
  {
   "cell_type": "code",
   "execution_count": 105,
   "id": "423294ff-34bb-4195-937d-bf6864829da8",
   "metadata": {},
   "outputs": [],
   "source": [
    "#Compute ROC curve\n",
    "fpr, tpr, thresholds = roc_curve(y_test,y_pred)"
   ]
  },
  {
   "cell_type": "code",
   "execution_count": 106,
   "id": "32b4eedb-0028-4690-afeb-c85930b654ef",
   "metadata": {},
   "outputs": [
    {
     "data": {
      "text/plain": [
       "0.9488726579866624"
      ]
     },
     "execution_count": 106,
     "metadata": {},
     "output_type": "execute_result"
    }
   ],
   "source": [
    "#Compute the Area Under Curve (AUC)\n",
    "roc_auc = auc(fpr,tpr)\n",
    "roc_auc"
   ]
  },
  {
   "cell_type": "code",
   "execution_count": 107,
   "id": "2cf9d2df-022a-4aa3-8ba4-86258c2daa9a",
   "metadata": {},
   "outputs": [
    {
     "data": {
      "text/plain": [
       "<matplotlib.collections.PolyCollection at 0x2afcdd38310>"
      ]
     },
     "execution_count": 107,
     "metadata": {},
     "output_type": "execute_result"
    },
    {
     "data": {
      "image/png": "[encoded data removed]",
      "text/plain": [
       "<Figure size 640x480 with 1 Axes>"
      ]
     },
     "metadata": {},
     "output_type": "display_data"
    }
   ],
   "source": [
    "roc_display = RocCurveDisplay(fpr=fpr, tpr=tpr, roc_auc=roc_auc)\n",
    "roc_display.plot(linewidth=2, color='blue')\n",
    "plt.fill_between(fpr, tpr, alpha=0.3, color='blue')"
   ]
  },
  {
   "cell_type": "markdown",
   "id": "17dac68c-77b3-468d-9794-862ebf5c5f06",
   "metadata": {},
   "source": [
    "<b> The model performs very well, showing high accuracy, precision, recall, and specificity, indicating that it correctly identifies both positive and negative cases. The AUC of 0.95 confirms that the model has strong discriminatory power, effectively distinguishing between classes. </b>"
   ]
  },
  {
   "cell_type": "markdown",
   "id": "c8823fbc-b063-4439-bb8c-4a1d5a98aa9e",
   "metadata": {},
   "source": [
    "#### 7.2.6 Confusion Matrix\n",
    "- **Definition**: A matrix that summarizes the performance of a classification algorithm by showing the actual vs. predicted instances.\n",
    "- **Structure**:\n",
    "\n",
    "  |                | Predicted Positive | Predicted Negative |\n",
    "  |----------------|--------------------|--------------------|\n",
    "  | **Actual Positive** | TP                 | FN                 |\n",
    "  | **Actual Negative** | FP                 | TN                 |\n",
    "\n",
    "- **Use Case**: Helps in identifying the types of errors the model is making."
   ]
  },
  {
   "cell_type": "code",
   "execution_count": 110,
   "id": "35b4f2a6-e0bc-42dd-ad20-1adea1eeac18",
   "metadata": {},
   "outputs": [
    {
     "name": "stdout",
     "output_type": "stream",
     "text": [
      "[[45  2]\n",
      " [ 4 63]]\n"
     ]
    }
   ],
   "source": [
    "conf_mat = confusion_matrix(y_test, y_pred)\n",
    "print(conf_mat)"
   ]
  },
  {
   "cell_type": "code",
   "execution_count": 111,
   "id": "e325a47f-0773-4bc3-b065-5b4175bd08c7",
   "metadata": {},
   "outputs": [
    {
     "data": {
      "text/html": [
       "<div>\n",
       "<style scoped>\n",
       "    .dataframe tbody tr th:only-of-type {\n",
       "        vertical-align: middle;\n",
       "    }\n",
       "\n",
       "    .dataframe tbody tr th {\n",
       "        vertical-align: top;\n",
       "    }\n",
       "\n",
       "    .dataframe thead th {\n",
       "        text-align: right;\n",
       "    }\n",
       "</style>\n",
       "<table border=\"1\" class=\"dataframe\">\n",
       "  <thead>\n",
       "    <tr style=\"text-align: right;\">\n",
       "      <th>Predicted Labels</th>\n",
       "      <th>0</th>\n",
       "      <th>1</th>\n",
       "    </tr>\n",
       "    <tr>\n",
       "      <th>Actual Labels</th>\n",
       "      <th></th>\n",
       "      <th></th>\n",
       "    </tr>\n",
       "  </thead>\n",
       "  <tbody>\n",
       "    <tr>\n",
       "      <th>0</th>\n",
       "      <td>45</td>\n",
       "      <td>2</td>\n",
       "    </tr>\n",
       "    <tr>\n",
       "      <th>1</th>\n",
       "      <td>4</td>\n",
       "      <td>63</td>\n",
       "    </tr>\n",
       "  </tbody>\n",
       "</table>\n",
       "</div>"
      ],
      "text/plain": [
       "Predicted Labels   0   1\n",
       "Actual Labels           \n",
       "0                 45   2\n",
       "1                  4  63"
      ]
     },
     "execution_count": 111,
     "metadata": {},
     "output_type": "execute_result"
    }
   ],
   "source": [
    "pd.crosstab(y_test, y_pred, rownames=[\"Actual Labels\"],colnames=[\"Predicted Labels\"])"
   ]
  },
  {
   "cell_type": "code",
   "execution_count": 112,
   "id": "c87b6757-8fa5-4a0d-884b-ae56ee3b1ae6",
   "metadata": {},
   "outputs": [
    {
     "data": {
      "text/plain": [
       "Text(0.5, 1.0, 'Confusion Matrix')"
      ]
     },
     "execution_count": 112,
     "metadata": {},
     "output_type": "execute_result"
    },
    {
     "data": {
      "image/png": "[encoded data removed]",
      "text/plain": [
       "<Figure size 640x480 with 2 Axes>"
      ]
     },
     "metadata": {},
     "output_type": "display_data"
    }
   ],
   "source": [
    "disp = ConfusionMatrixDisplay(confusion_matrix=conf_mat)\n",
    "disp.plot(cmap=plt.cm.Blues)\n",
    "plt.title('Confusion Matrix')"
   ]
  },
  {
   "cell_type": "markdown",
   "id": "102afd2b-c3e6-427e-913f-ad93b13aafb8",
   "metadata": {},
   "source": [
    "#### 7.2.7 Classification Report\n",
    "- **Definition**: A summary report that provides precision, recall, F1-score, and support (number of true instances) for each class.\n",
    "- **Generated By**: `sklearn.metrics.classification_report()`.\n",
    "- **Use Case**: Comprehensive overview of model performance across all classes."
   ]
  },
  {
   "cell_type": "code",
   "execution_count": 114,
   "id": "04ca9dde-2b1d-4641-b86f-0a1db9fc3316",
   "metadata": {
    "scrolled": true
   },
   "outputs": [
    {
     "name": "stdout",
     "output_type": "stream",
     "text": [
      "              precision    recall  f1-score   support\n",
      "\n",
      "           0       0.92      0.96      0.94        47\n",
      "           1       0.97      0.94      0.95        67\n",
      "\n",
      "    accuracy                           0.95       114\n",
      "   macro avg       0.94      0.95      0.95       114\n",
      "weighted avg       0.95      0.95      0.95       114\n",
      "\n"
     ]
    }
   ],
   "source": [
    "print(classification_report(y_test,y_pred))"
   ]
  }
 ],
 "metadata": {
  "kernelspec": {
   "display_name": "Python 3 (ipykernel)",
   "language": "python",
   "name": "python3"
  },
  "language_info": {
   "codemirror_mode": {
    "name": "ipython",
    "version": 3
   },
   "file_extension": ".py",
   "mimetype": "text/x-python",
   "name": "python",
   "nbconvert_exporter": "python",
   "pygments_lexer": "ipython3",
   "version": "3.11.7"
  }
 },
 "nbformat": 4,
 "nbformat_minor": 5
}
